{
 "cells": [
  {
   "cell_type": "code",
   "execution_count": 1,
   "id": "04372c3e",
   "metadata": {
    "_cell_guid": "b1076dfc-b9ad-4769-8c92-a6c4dae69d19",
    "_uuid": "8f2839f25d086af736a60e9eeb907d3b93b6e0e5",
    "execution": {
     "iopub.execute_input": "2025-10-02T07:44:39.399628Z",
     "iopub.status.busy": "2025-10-02T07:44:39.399279Z",
     "iopub.status.idle": "2025-10-02T07:44:41.554426Z",
     "shell.execute_reply": "2025-10-02T07:44:41.553159Z"
    },
    "papermill": {
     "duration": 2.16923,
     "end_time": "2025-10-02T07:44:41.556155",
     "exception": false,
     "start_time": "2025-10-02T07:44:39.386925",
     "status": "completed"
    },
    "tags": []
   },
   "outputs": [
    {
     "name": "stdout",
     "output_type": "stream",
     "text": [
      "/kaggle/input/Airbnb Data/Listings.csv\n",
      "/kaggle/input/Airbnb Data/Reviews.csv\n",
      "/kaggle/input/Airbnb Data/Reviews_data_dictionary.csv\n",
      "/kaggle/input/Airbnb Data/Listings_data_dictionary.csv\n"
     ]
    }
   ],
   "source": [
    "# This Python 3 environment comes with many helpful analytics libraries installed\n",
    "# It is defined by the kaggle/python Docker image: https://github.com/kaggle/docker-python\n",
    "# For example, here's several helpful packages to load\n",
    "\n",
    "import numpy as np # linear algebra\n",
    "import pandas as pd # data processing, CSV file I/O (e.g. pd.read_csv)\n",
    "\n",
    "# Input data files are available in the read-only \"../input/\" directory\n",
    "# For example, running this (by clicking run or pressing Shift+Enter) will list all files under the input directory\n",
    "\n",
    "import os\n",
    "for dirname, _, filenames in os.walk('/kaggle/input'):\n",
    "    for filename in filenames:\n",
    "        print(os.path.join(dirname, filename))\n",
    "\n",
    "# You can write up to 20GB to the current directory (/kaggle/working/) that gets preserved as output when you create a version using \"Save & Run All\" \n",
    "# You can also write temporary files to /kaggle/temp/, but they won't be saved outside of the current session"
   ]
  },
  {
   "cell_type": "markdown",
   "id": "cbb96cad",
   "metadata": {
    "papermill": {
     "duration": 0.009728,
     "end_time": "2025-10-02T07:44:41.576363",
     "exception": false,
     "start_time": "2025-10-02T07:44:41.566635",
     "status": "completed"
    },
    "tags": []
   },
   "source": [
    "<div style=\"\n",
    "    background-color: #00a699; \n",
    "    color: white; \n",
    "    padding: 15px; \n",
    "    border-radius: 10px; \n",
    "    text-align: center; \n",
    "    font-size: 28px; \n",
    "    font-weight: bold;\n",
    "\">\n",
    "    Impact of Regulation on AirBnB business in Paris\n",
    "</div>\n"
   ]
  },
  {
   "cell_type": "markdown",
   "id": "2cf8c2e8",
   "metadata": {
    "papermill": {
     "duration": 0.010452,
     "end_time": "2025-10-02T07:44:41.596842",
     "exception": false,
     "start_time": "2025-10-02T07:44:41.586390",
     "status": "completed"
    },
    "tags": []
   },
   "source": [
    "![Paris Airbnb View](https://media-cdn.tripadvisor.com/media/attractions-splice-spp-674x446/07/1a/f3/0d.jpg)"
   ]
  },
  {
   "cell_type": "markdown",
   "id": "3977910c",
   "metadata": {
    "papermill": {
     "duration": 0.009743,
     "end_time": "2025-10-02T07:44:41.616332",
     "exception": false,
     "start_time": "2025-10-02T07:44:41.606589",
     "status": "completed"
    },
    "tags": []
   },
   "source": [
    "## Executive Summary\n",
    "\n",
    "- **Rapid Growth Pre-2017**: Airbnb in Paris expanded quickly, with a surge of new hosts entering the market until 2016.  \n",
    "- **Regulatory Shift in 2017**: The introduction of stricter rental regulations slowed new host entries, reducing supply growth.  \n",
    "- **Resilient Demand**: Traveler demand remained strong, leading to a supply-demand gap and upward pressure on prices.  \n",
    "- **Key Opportunities**: Success now depends on focusing on premium localities, implementing dynamic pricing, and adapting to regulatory constraints.  \n"
   ]
  },
  {
   "cell_type": "code",
   "execution_count": 2,
   "id": "fb087a0e",
   "metadata": {
    "execution": {
     "iopub.execute_input": "2025-10-02T07:44:41.637691Z",
     "iopub.status.busy": "2025-10-02T07:44:41.637223Z",
     "iopub.status.idle": "2025-10-02T07:44:41.658322Z",
     "shell.execute_reply": "2025-10-02T07:44:41.657357Z"
    },
    "papermill": {
     "duration": 0.033696,
     "end_time": "2025-10-02T07:44:41.659892",
     "exception": false,
     "start_time": "2025-10-02T07:44:41.626196",
     "status": "completed"
    },
    "tags": []
   },
   "outputs": [],
   "source": [
    "reviews_dict = pd.read_csv(r\"/kaggle/input/Airbnb Data/Reviews_data_dictionary.csv\")"
   ]
  },
  {
   "cell_type": "code",
   "execution_count": 3,
   "id": "17a57fd8",
   "metadata": {
    "execution": {
     "iopub.execute_input": "2025-10-02T07:44:41.681041Z",
     "iopub.status.busy": "2025-10-02T07:44:41.680687Z",
     "iopub.status.idle": "2025-10-02T07:44:41.706190Z",
     "shell.execute_reply": "2025-10-02T07:44:41.705265Z"
    },
    "papermill": {
     "duration": 0.037986,
     "end_time": "2025-10-02T07:44:41.707832",
     "exception": false,
     "start_time": "2025-10-02T07:44:41.669846",
     "status": "completed"
    },
    "tags": []
   },
   "outputs": [
    {
     "data": {
      "text/html": [
       "<div>\n",
       "<style scoped>\n",
       "    .dataframe tbody tr th:only-of-type {\n",
       "        vertical-align: middle;\n",
       "    }\n",
       "\n",
       "    .dataframe tbody tr th {\n",
       "        vertical-align: top;\n",
       "    }\n",
       "\n",
       "    .dataframe thead th {\n",
       "        text-align: right;\n",
       "    }\n",
       "</style>\n",
       "<table border=\"1\" class=\"dataframe\">\n",
       "  <thead>\n",
       "    <tr style=\"text-align: right;\">\n",
       "      <th></th>\n",
       "      <th>Field</th>\n",
       "      <th>Description</th>\n",
       "    </tr>\n",
       "  </thead>\n",
       "  <tbody>\n",
       "    <tr>\n",
       "      <th>0</th>\n",
       "      <td>listing_id</td>\n",
       "      <td>Listing ID</td>\n",
       "    </tr>\n",
       "    <tr>\n",
       "      <th>1</th>\n",
       "      <td>review_id</td>\n",
       "      <td>Review ID</td>\n",
       "    </tr>\n",
       "    <tr>\n",
       "      <th>2</th>\n",
       "      <td>date</td>\n",
       "      <td>Review date</td>\n",
       "    </tr>\n",
       "    <tr>\n",
       "      <th>3</th>\n",
       "      <td>reviewer_id</td>\n",
       "      <td>Reviewer ID</td>\n",
       "    </tr>\n",
       "  </tbody>\n",
       "</table>\n",
       "</div>"
      ],
      "text/plain": [
       "         Field  Description\n",
       "0   listing_id   Listing ID\n",
       "1    review_id    Review ID\n",
       "2         date  Review date\n",
       "3  reviewer_id  Reviewer ID"
      ]
     },
     "execution_count": 3,
     "metadata": {},
     "output_type": "execute_result"
    }
   ],
   "source": [
    "reviews_dict"
   ]
  },
  {
   "cell_type": "code",
   "execution_count": 4,
   "id": "db9d3197",
   "metadata": {
    "execution": {
     "iopub.execute_input": "2025-10-02T07:44:41.729554Z",
     "iopub.status.busy": "2025-10-02T07:44:41.729249Z",
     "iopub.status.idle": "2025-10-02T07:44:46.588811Z",
     "shell.execute_reply": "2025-10-02T07:44:46.587803Z"
    },
    "papermill": {
     "duration": 4.872591,
     "end_time": "2025-10-02T07:44:46.590556",
     "exception": false,
     "start_time": "2025-10-02T07:44:41.717965",
     "status": "completed"
    },
    "tags": []
   },
   "outputs": [],
   "source": [
    "reviews = pd.read_csv(r\"/kaggle/input/Airbnb Data/Reviews.csv\")"
   ]
  },
  {
   "cell_type": "code",
   "execution_count": 5,
   "id": "654a48aa",
   "metadata": {
    "execution": {
     "iopub.execute_input": "2025-10-02T07:44:46.613076Z",
     "iopub.status.busy": "2025-10-02T07:44:46.612195Z",
     "iopub.status.idle": "2025-10-02T07:44:46.631081Z",
     "shell.execute_reply": "2025-10-02T07:44:46.630256Z"
    },
    "papermill": {
     "duration": 0.031555,
     "end_time": "2025-10-02T07:44:46.632649",
     "exception": false,
     "start_time": "2025-10-02T07:44:46.601094",
     "status": "completed"
    },
    "tags": []
   },
   "outputs": [
    {
     "data": {
      "text/html": [
       "<div>\n",
       "<style scoped>\n",
       "    .dataframe tbody tr th:only-of-type {\n",
       "        vertical-align: middle;\n",
       "    }\n",
       "\n",
       "    .dataframe tbody tr th {\n",
       "        vertical-align: top;\n",
       "    }\n",
       "\n",
       "    .dataframe thead th {\n",
       "        text-align: right;\n",
       "    }\n",
       "</style>\n",
       "<table border=\"1\" class=\"dataframe\">\n",
       "  <thead>\n",
       "    <tr style=\"text-align: right;\">\n",
       "      <th></th>\n",
       "      <th>listing_id</th>\n",
       "      <th>review_id</th>\n",
       "      <th>date</th>\n",
       "      <th>reviewer_id</th>\n",
       "    </tr>\n",
       "  </thead>\n",
       "  <tbody>\n",
       "    <tr>\n",
       "      <th>0</th>\n",
       "      <td>11798</td>\n",
       "      <td>330265172</td>\n",
       "      <td>2018-09-30</td>\n",
       "      <td>11863072</td>\n",
       "    </tr>\n",
       "    <tr>\n",
       "      <th>1</th>\n",
       "      <td>15383</td>\n",
       "      <td>330103585</td>\n",
       "      <td>2018-09-30</td>\n",
       "      <td>39147453</td>\n",
       "    </tr>\n",
       "    <tr>\n",
       "      <th>2</th>\n",
       "      <td>16455</td>\n",
       "      <td>329985788</td>\n",
       "      <td>2018-09-30</td>\n",
       "      <td>1125378</td>\n",
       "    </tr>\n",
       "    <tr>\n",
       "      <th>3</th>\n",
       "      <td>17919</td>\n",
       "      <td>330016899</td>\n",
       "      <td>2018-09-30</td>\n",
       "      <td>172717984</td>\n",
       "    </tr>\n",
       "    <tr>\n",
       "      <th>4</th>\n",
       "      <td>26827</td>\n",
       "      <td>329995638</td>\n",
       "      <td>2018-09-30</td>\n",
       "      <td>17542859</td>\n",
       "    </tr>\n",
       "    <tr>\n",
       "      <th>...</th>\n",
       "      <td>...</td>\n",
       "      <td>...</td>\n",
       "      <td>...</td>\n",
       "      <td>...</td>\n",
       "    </tr>\n",
       "    <tr>\n",
       "      <th>5373138</th>\n",
       "      <td>47779342</td>\n",
       "      <td>726766332</td>\n",
       "      <td>2021-01-25</td>\n",
       "      <td>283094516</td>\n",
       "    </tr>\n",
       "    <tr>\n",
       "      <th>5373139</th>\n",
       "      <td>47823964</td>\n",
       "      <td>727963021</td>\n",
       "      <td>2021-01-31</td>\n",
       "      <td>76411977</td>\n",
       "    </tr>\n",
       "    <tr>\n",
       "      <th>5373140</th>\n",
       "      <td>47896175</td>\n",
       "      <td>728548625</td>\n",
       "      <td>2021-02-02</td>\n",
       "      <td>71370946</td>\n",
       "    </tr>\n",
       "    <tr>\n",
       "      <th>5373141</th>\n",
       "      <td>47900451</td>\n",
       "      <td>727399287</td>\n",
       "      <td>2021-01-29</td>\n",
       "      <td>109011160</td>\n",
       "    </tr>\n",
       "    <tr>\n",
       "      <th>5373142</th>\n",
       "      <td>47998038</td>\n",
       "      <td>730320626</td>\n",
       "      <td>2021-02-11</td>\n",
       "      <td>276790978</td>\n",
       "    </tr>\n",
       "  </tbody>\n",
       "</table>\n",
       "<p>5373143 rows × 4 columns</p>\n",
       "</div>"
      ],
      "text/plain": [
       "         listing_id  review_id        date  reviewer_id\n",
       "0             11798  330265172  2018-09-30     11863072\n",
       "1             15383  330103585  2018-09-30     39147453\n",
       "2             16455  329985788  2018-09-30      1125378\n",
       "3             17919  330016899  2018-09-30    172717984\n",
       "4             26827  329995638  2018-09-30     17542859\n",
       "...             ...        ...         ...          ...\n",
       "5373138    47779342  726766332  2021-01-25    283094516\n",
       "5373139    47823964  727963021  2021-01-31     76411977\n",
       "5373140    47896175  728548625  2021-02-02     71370946\n",
       "5373141    47900451  727399287  2021-01-29    109011160\n",
       "5373142    47998038  730320626  2021-02-11    276790978\n",
       "\n",
       "[5373143 rows x 4 columns]"
      ]
     },
     "execution_count": 5,
     "metadata": {},
     "output_type": "execute_result"
    }
   ],
   "source": [
    "reviews"
   ]
  },
  {
   "cell_type": "markdown",
   "id": "32eddd22",
   "metadata": {
    "papermill": {
     "duration": 0.010095,
     "end_time": "2025-10-02T07:44:46.653379",
     "exception": false,
     "start_time": "2025-10-02T07:44:46.643284",
     "status": "completed"
    },
    "tags": []
   },
   "source": [
    "<div style=\"\n",
    "    background-color: #00a699; \n",
    "    color: white; \n",
    "    padding: 15px; \n",
    "    border-radius: 10px; \n",
    "    text-align: center; \n",
    "    font-size: 28px; \n",
    "    font-weight: bold;\n",
    "\">\n",
    "    Importing Data and Exploring Column Information\n",
    "</div>\n"
   ]
  },
  {
   "cell_type": "code",
   "execution_count": 6,
   "id": "50d35a9e",
   "metadata": {
    "execution": {
     "iopub.execute_input": "2025-10-02T07:44:46.675004Z",
     "iopub.status.busy": "2025-10-02T07:44:46.674655Z",
     "iopub.status.idle": "2025-10-02T07:44:46.684052Z",
     "shell.execute_reply": "2025-10-02T07:44:46.683224Z"
    },
    "papermill": {
     "duration": 0.022298,
     "end_time": "2025-10-02T07:44:46.685812",
     "exception": false,
     "start_time": "2025-10-02T07:44:46.663514",
     "status": "completed"
    },
    "tags": []
   },
   "outputs": [],
   "source": [
    "listings_dict = pd.read_csv(r\"/kaggle/input/Airbnb Data/Listings_data_dictionary.csv\")"
   ]
  },
  {
   "cell_type": "code",
   "execution_count": 7,
   "id": "da63e727",
   "metadata": {
    "execution": {
     "iopub.execute_input": "2025-10-02T07:44:46.708465Z",
     "iopub.status.busy": "2025-10-02T07:44:46.707798Z",
     "iopub.status.idle": "2025-10-02T07:44:46.718294Z",
     "shell.execute_reply": "2025-10-02T07:44:46.717287Z"
    },
    "papermill": {
     "duration": 0.023488,
     "end_time": "2025-10-02T07:44:46.719959",
     "exception": false,
     "start_time": "2025-10-02T07:44:46.696471",
     "status": "completed"
    },
    "tags": []
   },
   "outputs": [
    {
     "data": {
      "text/html": [
       "<div>\n",
       "<style scoped>\n",
       "    .dataframe tbody tr th:only-of-type {\n",
       "        vertical-align: middle;\n",
       "    }\n",
       "\n",
       "    .dataframe tbody tr th {\n",
       "        vertical-align: top;\n",
       "    }\n",
       "\n",
       "    .dataframe thead th {\n",
       "        text-align: right;\n",
       "    }\n",
       "</style>\n",
       "<table border=\"1\" class=\"dataframe\">\n",
       "  <thead>\n",
       "    <tr style=\"text-align: right;\">\n",
       "      <th></th>\n",
       "      <th>Field</th>\n",
       "      <th>Description</th>\n",
       "    </tr>\n",
       "  </thead>\n",
       "  <tbody>\n",
       "    <tr>\n",
       "      <th>0</th>\n",
       "      <td>listing_id</td>\n",
       "      <td>Listing ID</td>\n",
       "    </tr>\n",
       "    <tr>\n",
       "      <th>1</th>\n",
       "      <td>name</td>\n",
       "      <td>Listing Name</td>\n",
       "    </tr>\n",
       "    <tr>\n",
       "      <th>2</th>\n",
       "      <td>host_id</td>\n",
       "      <td>Host ID</td>\n",
       "    </tr>\n",
       "    <tr>\n",
       "      <th>3</th>\n",
       "      <td>host_since</td>\n",
       "      <td>Date the Host joined Airbnb</td>\n",
       "    </tr>\n",
       "    <tr>\n",
       "      <th>4</th>\n",
       "      <td>host_location</td>\n",
       "      <td>Location where the Host is based</td>\n",
       "    </tr>\n",
       "    <tr>\n",
       "      <th>5</th>\n",
       "      <td>host_response_time</td>\n",
       "      <td>Estimate of how long the Host takes to respond</td>\n",
       "    </tr>\n",
       "    <tr>\n",
       "      <th>6</th>\n",
       "      <td>host_response_rate</td>\n",
       "      <td>Percentage of times the Host responds</td>\n",
       "    </tr>\n",
       "    <tr>\n",
       "      <th>7</th>\n",
       "      <td>host_acceptance_rate</td>\n",
       "      <td>Percentage of times the Host accepts a booking...</td>\n",
       "    </tr>\n",
       "    <tr>\n",
       "      <th>8</th>\n",
       "      <td>host_is_superhost</td>\n",
       "      <td>Binary field to determine if the Host is a Sup...</td>\n",
       "    </tr>\n",
       "    <tr>\n",
       "      <th>9</th>\n",
       "      <td>host_total_listings_count</td>\n",
       "      <td>Total listings the Host has in Airbnb</td>\n",
       "    </tr>\n",
       "    <tr>\n",
       "      <th>10</th>\n",
       "      <td>host_has_profile_pic</td>\n",
       "      <td>Binary field to determine if the Host has a pr...</td>\n",
       "    </tr>\n",
       "    <tr>\n",
       "      <th>11</th>\n",
       "      <td>host_identity_verified</td>\n",
       "      <td>Binary field to determine if the Host has a ve...</td>\n",
       "    </tr>\n",
       "    <tr>\n",
       "      <th>12</th>\n",
       "      <td>neighbourhood</td>\n",
       "      <td>Neighborhood the Listing is in</td>\n",
       "    </tr>\n",
       "    <tr>\n",
       "      <th>13</th>\n",
       "      <td>district</td>\n",
       "      <td>District the Listing is in</td>\n",
       "    </tr>\n",
       "    <tr>\n",
       "      <th>14</th>\n",
       "      <td>city</td>\n",
       "      <td>City the Listing is in</td>\n",
       "    </tr>\n",
       "    <tr>\n",
       "      <th>15</th>\n",
       "      <td>latitude</td>\n",
       "      <td>Listing's latitude</td>\n",
       "    </tr>\n",
       "    <tr>\n",
       "      <th>16</th>\n",
       "      <td>longitude</td>\n",
       "      <td>Listing's longitude</td>\n",
       "    </tr>\n",
       "    <tr>\n",
       "      <th>17</th>\n",
       "      <td>property_type</td>\n",
       "      <td>Type of property for the Listing</td>\n",
       "    </tr>\n",
       "    <tr>\n",
       "      <th>18</th>\n",
       "      <td>room_type</td>\n",
       "      <td>Type of room type in Airbnb for the Listing</td>\n",
       "    </tr>\n",
       "    <tr>\n",
       "      <th>19</th>\n",
       "      <td>accommodates</td>\n",
       "      <td>Guests the Listing accomodates</td>\n",
       "    </tr>\n",
       "    <tr>\n",
       "      <th>20</th>\n",
       "      <td>bedrooms</td>\n",
       "      <td>Bedrooms in the Listing</td>\n",
       "    </tr>\n",
       "    <tr>\n",
       "      <th>21</th>\n",
       "      <td>amenities</td>\n",
       "      <td>Amenities the Listing includes</td>\n",
       "    </tr>\n",
       "    <tr>\n",
       "      <th>22</th>\n",
       "      <td>price</td>\n",
       "      <td>Listing price (in each country's currency)</td>\n",
       "    </tr>\n",
       "    <tr>\n",
       "      <th>23</th>\n",
       "      <td>minimum_nights</td>\n",
       "      <td>Minimum nights per booking</td>\n",
       "    </tr>\n",
       "    <tr>\n",
       "      <th>24</th>\n",
       "      <td>maximum_nights</td>\n",
       "      <td>Maximum nights per booking</td>\n",
       "    </tr>\n",
       "    <tr>\n",
       "      <th>25</th>\n",
       "      <td>review_scores_rating</td>\n",
       "      <td>Listing's overall rating (out of 100)</td>\n",
       "    </tr>\n",
       "    <tr>\n",
       "      <th>26</th>\n",
       "      <td>review_scores_accuracy</td>\n",
       "      <td>Listing's accuracy score based on what's promo...</td>\n",
       "    </tr>\n",
       "    <tr>\n",
       "      <th>27</th>\n",
       "      <td>review_scores_cleanliness</td>\n",
       "      <td>Listing's cleanliness score (out of 10)</td>\n",
       "    </tr>\n",
       "    <tr>\n",
       "      <th>28</th>\n",
       "      <td>review_scores_checkin</td>\n",
       "      <td>Listing's check-in experience score (out of 10)</td>\n",
       "    </tr>\n",
       "    <tr>\n",
       "      <th>29</th>\n",
       "      <td>review_scores_communication</td>\n",
       "      <td>Listing's communication with the Host score (o...</td>\n",
       "    </tr>\n",
       "    <tr>\n",
       "      <th>30</th>\n",
       "      <td>review_scores_location</td>\n",
       "      <td>Listing's location score within the city (out ...</td>\n",
       "    </tr>\n",
       "    <tr>\n",
       "      <th>31</th>\n",
       "      <td>review_scores_value</td>\n",
       "      <td>Listing's value score relative to its price (o...</td>\n",
       "    </tr>\n",
       "    <tr>\n",
       "      <th>32</th>\n",
       "      <td>instant_bookable</td>\n",
       "      <td>Binary field to determine if the Listing can b...</td>\n",
       "    </tr>\n",
       "  </tbody>\n",
       "</table>\n",
       "</div>"
      ],
      "text/plain": [
       "                          Field  \\\n",
       "0                    listing_id   \n",
       "1                          name   \n",
       "2                       host_id   \n",
       "3                    host_since   \n",
       "4                 host_location   \n",
       "5            host_response_time   \n",
       "6            host_response_rate   \n",
       "7          host_acceptance_rate   \n",
       "8             host_is_superhost   \n",
       "9     host_total_listings_count   \n",
       "10         host_has_profile_pic   \n",
       "11       host_identity_verified   \n",
       "12                neighbourhood   \n",
       "13                     district   \n",
       "14                         city   \n",
       "15                     latitude   \n",
       "16                    longitude   \n",
       "17                property_type   \n",
       "18                    room_type   \n",
       "19                 accommodates   \n",
       "20                     bedrooms   \n",
       "21                    amenities   \n",
       "22                        price   \n",
       "23               minimum_nights   \n",
       "24               maximum_nights   \n",
       "25         review_scores_rating   \n",
       "26       review_scores_accuracy   \n",
       "27    review_scores_cleanliness   \n",
       "28        review_scores_checkin   \n",
       "29  review_scores_communication   \n",
       "30       review_scores_location   \n",
       "31          review_scores_value   \n",
       "32             instant_bookable   \n",
       "\n",
       "                                          Description  \n",
       "0                                          Listing ID  \n",
       "1                                        Listing Name  \n",
       "2                                             Host ID  \n",
       "3                         Date the Host joined Airbnb  \n",
       "4                    Location where the Host is based  \n",
       "5      Estimate of how long the Host takes to respond  \n",
       "6               Percentage of times the Host responds  \n",
       "7   Percentage of times the Host accepts a booking...  \n",
       "8   Binary field to determine if the Host is a Sup...  \n",
       "9               Total listings the Host has in Airbnb  \n",
       "10  Binary field to determine if the Host has a pr...  \n",
       "11  Binary field to determine if the Host has a ve...  \n",
       "12                     Neighborhood the Listing is in  \n",
       "13                         District the Listing is in  \n",
       "14                             City the Listing is in  \n",
       "15                                 Listing's latitude  \n",
       "16                                Listing's longitude  \n",
       "17                   Type of property for the Listing  \n",
       "18        Type of room type in Airbnb for the Listing  \n",
       "19                     Guests the Listing accomodates  \n",
       "20                            Bedrooms in the Listing  \n",
       "21                     Amenities the Listing includes  \n",
       "22         Listing price (in each country's currency)  \n",
       "23                         Minimum nights per booking  \n",
       "24                         Maximum nights per booking  \n",
       "25              Listing's overall rating (out of 100)  \n",
       "26  Listing's accuracy score based on what's promo...  \n",
       "27            Listing's cleanliness score (out of 10)  \n",
       "28    Listing's check-in experience score (out of 10)  \n",
       "29  Listing's communication with the Host score (o...  \n",
       "30  Listing's location score within the city (out ...  \n",
       "31  Listing's value score relative to its price (o...  \n",
       "32  Binary field to determine if the Listing can b...  "
      ]
     },
     "execution_count": 7,
     "metadata": {},
     "output_type": "execute_result"
    }
   ],
   "source": [
    "listings_dict"
   ]
  },
  {
   "cell_type": "code",
   "execution_count": 8,
   "id": "a5f4bc66",
   "metadata": {
    "execution": {
     "iopub.execute_input": "2025-10-02T07:44:46.743841Z",
     "iopub.status.busy": "2025-10-02T07:44:46.742953Z",
     "iopub.status.idle": "2025-10-02T07:44:51.608982Z",
     "shell.execute_reply": "2025-10-02T07:44:51.608025Z"
    },
    "papermill": {
     "duration": 4.879387,
     "end_time": "2025-10-02T07:44:51.610630",
     "exception": false,
     "start_time": "2025-10-02T07:44:46.731243",
     "status": "completed"
    },
    "tags": []
   },
   "outputs": [],
   "source": [
    "listings = pd.read_csv(r\"/kaggle/input/Airbnb Data/Listings.csv\",\n",
    "                      encoding = \"ISO-8859-1\", low_memory=False)"
   ]
  },
  {
   "cell_type": "code",
   "execution_count": 9,
   "id": "9f874de6",
   "metadata": {
    "execution": {
     "iopub.execute_input": "2025-10-02T07:44:51.636454Z",
     "iopub.status.busy": "2025-10-02T07:44:51.635615Z",
     "iopub.status.idle": "2025-10-02T07:44:51.639989Z",
     "shell.execute_reply": "2025-10-02T07:44:51.639101Z"
    },
    "papermill": {
     "duration": 0.018725,
     "end_time": "2025-10-02T07:44:51.641402",
     "exception": false,
     "start_time": "2025-10-02T07:44:51.622677",
     "status": "completed"
    },
    "tags": []
   },
   "outputs": [],
   "source": [
    "import warnings\n",
    "warnings.filterwarnings(\"ignore\")"
   ]
  },
  {
   "cell_type": "code",
   "execution_count": 10,
   "id": "2edc7b93",
   "metadata": {
    "execution": {
     "iopub.execute_input": "2025-10-02T07:44:51.666361Z",
     "iopub.status.busy": "2025-10-02T07:44:51.665984Z",
     "iopub.status.idle": "2025-10-02T07:44:51.695283Z",
     "shell.execute_reply": "2025-10-02T07:44:51.694422Z"
    },
    "papermill": {
     "duration": 0.043654,
     "end_time": "2025-10-02T07:44:51.696879",
     "exception": false,
     "start_time": "2025-10-02T07:44:51.653225",
     "status": "completed"
    },
    "tags": []
   },
   "outputs": [
    {
     "data": {
      "text/html": [
       "<div>\n",
       "<style scoped>\n",
       "    .dataframe tbody tr th:only-of-type {\n",
       "        vertical-align: middle;\n",
       "    }\n",
       "\n",
       "    .dataframe tbody tr th {\n",
       "        vertical-align: top;\n",
       "    }\n",
       "\n",
       "    .dataframe thead th {\n",
       "        text-align: right;\n",
       "    }\n",
       "</style>\n",
       "<table border=\"1\" class=\"dataframe\">\n",
       "  <thead>\n",
       "    <tr style=\"text-align: right;\">\n",
       "      <th></th>\n",
       "      <th>listing_id</th>\n",
       "      <th>name</th>\n",
       "      <th>host_id</th>\n",
       "      <th>host_since</th>\n",
       "      <th>host_location</th>\n",
       "      <th>host_response_time</th>\n",
       "      <th>host_response_rate</th>\n",
       "      <th>host_acceptance_rate</th>\n",
       "      <th>host_is_superhost</th>\n",
       "      <th>host_total_listings_count</th>\n",
       "      <th>...</th>\n",
       "      <th>minimum_nights</th>\n",
       "      <th>maximum_nights</th>\n",
       "      <th>review_scores_rating</th>\n",
       "      <th>review_scores_accuracy</th>\n",
       "      <th>review_scores_cleanliness</th>\n",
       "      <th>review_scores_checkin</th>\n",
       "      <th>review_scores_communication</th>\n",
       "      <th>review_scores_location</th>\n",
       "      <th>review_scores_value</th>\n",
       "      <th>instant_bookable</th>\n",
       "    </tr>\n",
       "  </thead>\n",
       "  <tbody>\n",
       "    <tr>\n",
       "      <th>0</th>\n",
       "      <td>281420</td>\n",
       "      <td>Beautiful Flat in le Village Montmartre, Paris</td>\n",
       "      <td>1466919</td>\n",
       "      <td>2011-12-03</td>\n",
       "      <td>Paris, Ile-de-France, France</td>\n",
       "      <td>NaN</td>\n",
       "      <td>NaN</td>\n",
       "      <td>NaN</td>\n",
       "      <td>f</td>\n",
       "      <td>1.0</td>\n",
       "      <td>...</td>\n",
       "      <td>2</td>\n",
       "      <td>1125</td>\n",
       "      <td>100.0</td>\n",
       "      <td>10.0</td>\n",
       "      <td>10.0</td>\n",
       "      <td>10.0</td>\n",
       "      <td>10.0</td>\n",
       "      <td>10.0</td>\n",
       "      <td>10.0</td>\n",
       "      <td>f</td>\n",
       "    </tr>\n",
       "    <tr>\n",
       "      <th>1</th>\n",
       "      <td>3705183</td>\n",
       "      <td>39 mÃÂ² Paris (Sacre CÃ",
       "âur)</td>\n",
       "      <td>10328771</td>\n",
       "      <td>2013-11-29</td>\n",
       "      <td>Paris, Ile-de-France, France</td>\n",
       "      <td>NaN</td>\n",
       "      <td>NaN</td>\n",
       "      <td>NaN</td>\n",
       "      <td>f</td>\n",
       "      <td>1.0</td>\n",
       "      <td>...</td>\n",
       "      <td>2</td>\n",
       "      <td>1125</td>\n",
       "      <td>100.0</td>\n",
       "      <td>10.0</td>\n",
       "      <td>10.0</td>\n",
       "      <td>10.0</td>\n",
       "      <td>10.0</td>\n",
       "      <td>10.0</td>\n",
       "      <td>10.0</td>\n",
       "      <td>f</td>\n",
       "    </tr>\n",
       "    <tr>\n",
       "      <th>2</th>\n",
       "      <td>4082273</td>\n",
       "      <td>Lovely apartment with Terrace, 60m2</td>\n",
       "      <td>19252768</td>\n",
       "      <td>2014-07-31</td>\n",
       "      <td>Paris, Ile-de-France, France</td>\n",
       "      <td>NaN</td>\n",
       "      <td>NaN</td>\n",
       "      <td>NaN</td>\n",
       "      <td>f</td>\n",
       "      <td>1.0</td>\n",
       "      <td>...</td>\n",
       "      <td>2</td>\n",
       "      <td>1125</td>\n",
       "      <td>100.0</td>\n",
       "      <td>10.0</td>\n",
       "      <td>10.0</td>\n",
       "      <td>10.0</td>\n",
       "      <td>10.0</td>\n",
       "      <td>10.0</td>\n",
       "      <td>10.0</td>\n",
       "      <td>f</td>\n",
       "    </tr>\n",
       "    <tr>\n",
       "      <th>3</th>\n",
       "      <td>4797344</td>\n",
       "      <td>Cosy studio (close to Eiffel tower)</td>\n",
       "      <td>10668311</td>\n",
       "      <td>2013-12-17</td>\n",
       "      <td>Paris, Ile-de-France, France</td>\n",
       "      <td>NaN</td>\n",
       "      <td>NaN</td>\n",
       "      <td>NaN</td>\n",
       "      <td>f</td>\n",
       "      <td>1.0</td>\n",
       "      <td>...</td>\n",
       "      <td>2</td>\n",
       "      <td>1125</td>\n",
       "      <td>100.0</td>\n",
       "      <td>10.0</td>\n",
       "      <td>10.0</td>\n",
       "      <td>10.0</td>\n",
       "      <td>10.0</td>\n",
       "      <td>10.0</td>\n",
       "      <td>10.0</td>\n",
       "      <td>f</td>\n",
       "    </tr>\n",
       "    <tr>\n",
       "      <th>4</th>\n",
       "      <td>4823489</td>\n",
       "      <td>Close to Eiffel Tower - Beautiful flat : 2 rooms</td>\n",
       "      <td>24837558</td>\n",
       "      <td>2014-12-14</td>\n",
       "      <td>Paris, Ile-de-France, France</td>\n",
       "      <td>NaN</td>\n",
       "      <td>NaN</td>\n",
       "      <td>NaN</td>\n",
       "      <td>f</td>\n",
       "      <td>1.0</td>\n",
       "      <td>...</td>\n",
       "      <td>2</td>\n",
       "      <td>1125</td>\n",
       "      <td>100.0</td>\n",
       "      <td>10.0</td>\n",
       "      <td>10.0</td>\n",
       "      <td>10.0</td>\n",
       "      <td>10.0</td>\n",
       "      <td>10.0</td>\n",
       "      <td>10.0</td>\n",
       "      <td>f</td>\n",
       "    </tr>\n",
       "  </tbody>\n",
       "</table>\n",
       "<p>5 rows × 33 columns</p>\n",
       "</div>"
      ],
      "text/plain": [
       "   listing_id                                              name   host_id  \\\n",
       "0      281420    Beautiful Flat in le Village Montmartre, Paris   1466919   \n",
       "1     3705183                   39 mÃÂ² Paris (Sacre CÃ\n",
       "âur)  10328771   \n",
       "2     4082273               Lovely apartment with Terrace, 60m2  19252768   \n",
       "3     4797344               Cosy studio (close to Eiffel tower)  10668311   \n",
       "4     4823489  Close to Eiffel Tower - Beautiful flat : 2 rooms  24837558   \n",
       "\n",
       "   host_since                 host_location host_response_time  \\\n",
       "0  2011-12-03  Paris, Ile-de-France, France                NaN   \n",
       "1  2013-11-29  Paris, Ile-de-France, France                NaN   \n",
       "2  2014-07-31  Paris, Ile-de-France, France                NaN   \n",
       "3  2013-12-17  Paris, Ile-de-France, France                NaN   \n",
       "4  2014-12-14  Paris, Ile-de-France, France                NaN   \n",
       "\n",
       "   host_response_rate  host_acceptance_rate host_is_superhost  \\\n",
       "0                 NaN                   NaN                 f   \n",
       "1                 NaN                   NaN                 f   \n",
       "2                 NaN                   NaN                 f   \n",
       "3                 NaN                   NaN                 f   \n",
       "4                 NaN                   NaN                 f   \n",
       "\n",
       "   host_total_listings_count  ... minimum_nights maximum_nights  \\\n",
       "0                        1.0  ...              2           1125   \n",
       "1                        1.0  ...              2           1125   \n",
       "2                        1.0  ...              2           1125   \n",
       "3                        1.0  ...              2           1125   \n",
       "4                        1.0  ...              2           1125   \n",
       "\n",
       "  review_scores_rating review_scores_accuracy review_scores_cleanliness  \\\n",
       "0                100.0                   10.0                      10.0   \n",
       "1                100.0                   10.0                      10.0   \n",
       "2                100.0                   10.0                      10.0   \n",
       "3                100.0                   10.0                      10.0   \n",
       "4                100.0                   10.0                      10.0   \n",
       "\n",
       "   review_scores_checkin  review_scores_communication review_scores_location  \\\n",
       "0                   10.0                         10.0                   10.0   \n",
       "1                   10.0                         10.0                   10.0   \n",
       "2                   10.0                         10.0                   10.0   \n",
       "3                   10.0                         10.0                   10.0   \n",
       "4                   10.0                         10.0                   10.0   \n",
       "\n",
       "  review_scores_value  instant_bookable  \n",
       "0                10.0                 f  \n",
       "1                10.0                 f  \n",
       "2                10.0                 f  \n",
       "3                10.0                 f  \n",
       "4                10.0                 f  \n",
       "\n",
       "[5 rows x 33 columns]"
      ]
     },
     "execution_count": 10,
     "metadata": {},
     "output_type": "execute_result"
    }
   ],
   "source": [
    "listings.head()"
   ]
  },
  {
   "cell_type": "code",
   "execution_count": 11,
   "id": "65adb342",
   "metadata": {
    "execution": {
     "iopub.execute_input": "2025-10-02T07:44:51.720451Z",
     "iopub.status.busy": "2025-10-02T07:44:51.720158Z",
     "iopub.status.idle": "2025-10-02T07:44:51.956526Z",
     "shell.execute_reply": "2025-10-02T07:44:51.955608Z"
    },
    "papermill": {
     "duration": 0.250176,
     "end_time": "2025-10-02T07:44:51.958258",
     "exception": false,
     "start_time": "2025-10-02T07:44:51.708082",
     "status": "completed"
    },
    "tags": []
   },
   "outputs": [
    {
     "name": "stdout",
     "output_type": "stream",
     "text": [
      "<class 'pandas.core.frame.DataFrame'>\n",
      "RangeIndex: 279712 entries, 0 to 279711\n",
      "Data columns (total 33 columns):\n",
      " #   Column                       Non-Null Count   Dtype  \n",
      "---  ------                       --------------   -----  \n",
      " 0   listing_id                   279712 non-null  int64  \n",
      " 1   name                         279537 non-null  object \n",
      " 2   host_id                      279712 non-null  int64  \n",
      " 3   host_since                   279547 non-null  object \n",
      " 4   host_location                278872 non-null  object \n",
      " 5   host_response_time           150930 non-null  object \n",
      " 6   host_response_rate           150930 non-null  float64\n",
      " 7   host_acceptance_rate         166625 non-null  float64\n",
      " 8   host_is_superhost            279547 non-null  object \n",
      " 9   host_total_listings_count    279547 non-null  float64\n",
      " 10  host_has_profile_pic         279547 non-null  object \n",
      " 11  host_identity_verified       279547 non-null  object \n",
      " 12  neighbourhood                279712 non-null  object \n",
      " 13  district                     37012 non-null   object \n",
      " 14  city                         279712 non-null  object \n",
      " 15  latitude                     279712 non-null  float64\n",
      " 16  longitude                    279712 non-null  float64\n",
      " 17  property_type                279712 non-null  object \n",
      " 18  room_type                    279712 non-null  object \n",
      " 19  accommodates                 279712 non-null  int64  \n",
      " 20  bedrooms                     250277 non-null  float64\n",
      " 21  amenities                    279712 non-null  object \n",
      " 22  price                        279712 non-null  int64  \n",
      " 23  minimum_nights               279712 non-null  int64  \n",
      " 24  maximum_nights               279712 non-null  int64  \n",
      " 25  review_scores_rating         188307 non-null  float64\n",
      " 26  review_scores_accuracy       187999 non-null  float64\n",
      " 27  review_scores_cleanliness    188047 non-null  float64\n",
      " 28  review_scores_checkin        187941 non-null  float64\n",
      " 29  review_scores_communication  188025 non-null  float64\n",
      " 30  review_scores_location       187937 non-null  float64\n",
      " 31  review_scores_value          187927 non-null  float64\n",
      " 32  instant_bookable             279712 non-null  object \n",
      "dtypes: float64(13), int64(6), object(14)\n",
      "memory usage: 70.4+ MB\n"
     ]
    }
   ],
   "source": [
    "listings.info()"
   ]
  },
  {
   "cell_type": "code",
   "execution_count": 12,
   "id": "a480d54b",
   "metadata": {
    "execution": {
     "iopub.execute_input": "2025-10-02T07:44:52.040303Z",
     "iopub.status.busy": "2025-10-02T07:44:52.039984Z",
     "iopub.status.idle": "2025-10-02T07:44:52.062361Z",
     "shell.execute_reply": "2025-10-02T07:44:52.061540Z"
    },
    "papermill": {
     "duration": 0.036242,
     "end_time": "2025-10-02T07:44:52.063729",
     "exception": false,
     "start_time": "2025-10-02T07:44:52.027487",
     "status": "completed"
    },
    "tags": []
   },
   "outputs": [
    {
     "data": {
      "text/plain": [
       "city\n",
       "Paris             64690\n",
       "New York          37012\n",
       "Sydney            33630\n",
       "Rome              27647\n",
       "Rio de Janeiro    26615\n",
       "Istanbul          24519\n",
       "Mexico City       20065\n",
       "Bangkok           19361\n",
       "Cape Town         19086\n",
       "Hong Kong          7087\n",
       "Name: count, dtype: int64"
      ]
     },
     "execution_count": 12,
     "metadata": {},
     "output_type": "execute_result"
    }
   ],
   "source": [
    "listings[\"city\"].value_counts()"
   ]
  },
  {
   "cell_type": "markdown",
   "id": "15c7d1a7",
   "metadata": {
    "papermill": {
     "duration": 0.011068,
     "end_time": "2025-10-02T07:44:52.086361",
     "exception": false,
     "start_time": "2025-10-02T07:44:52.075293",
     "status": "completed"
    },
    "tags": []
   },
   "source": [
    "<div style=\"\n",
    "    background-color: #00a699; \n",
    "    color: white; \n",
    "    padding: 15px; \n",
    "    border-radius: 10px; \n",
    "    text-align: center; \n",
    "    font-size: 28px; \n",
    "    font-weight: bold;\n",
    "\">\n",
    "    Filtering rows to show only Paris data along with relevant columns\n",
    "</div>"
   ]
  },
  {
   "cell_type": "code",
   "execution_count": 13,
   "id": "cb87a6ac",
   "metadata": {
    "execution": {
     "iopub.execute_input": "2025-10-02T07:44:52.111486Z",
     "iopub.status.busy": "2025-10-02T07:44:52.110534Z",
     "iopub.status.idle": "2025-10-02T07:44:52.156319Z",
     "shell.execute_reply": "2025-10-02T07:44:52.155410Z"
    },
    "papermill": {
     "duration": 0.059819,
     "end_time": "2025-10-02T07:44:52.157998",
     "exception": false,
     "start_time": "2025-10-02T07:44:52.098179",
     "status": "completed"
    },
    "tags": []
   },
   "outputs": [],
   "source": [
    "paris_listings = listings[listings[\"city\"] == 'Paris']\n",
    "paris_listings = paris_listings.loc[:,[\"listing_id\",\"host_since\",\"neighbourhood\",\"city\",\"accommodates\",\"price\"]]"
   ]
  },
  {
   "cell_type": "code",
   "execution_count": 14,
   "id": "60a40b7e",
   "metadata": {
    "execution": {
     "iopub.execute_input": "2025-10-02T07:44:52.181898Z",
     "iopub.status.busy": "2025-10-02T07:44:52.181572Z",
     "iopub.status.idle": "2025-10-02T07:44:52.193081Z",
     "shell.execute_reply": "2025-10-02T07:44:52.192099Z"
    },
    "papermill": {
     "duration": 0.025045,
     "end_time": "2025-10-02T07:44:52.194469",
     "exception": false,
     "start_time": "2025-10-02T07:44:52.169424",
     "status": "completed"
    },
    "tags": []
   },
   "outputs": [
    {
     "data": {
      "text/html": [
       "<div>\n",
       "<style scoped>\n",
       "    .dataframe tbody tr th:only-of-type {\n",
       "        vertical-align: middle;\n",
       "    }\n",
       "\n",
       "    .dataframe tbody tr th {\n",
       "        vertical-align: top;\n",
       "    }\n",
       "\n",
       "    .dataframe thead th {\n",
       "        text-align: right;\n",
       "    }\n",
       "</style>\n",
       "<table border=\"1\" class=\"dataframe\">\n",
       "  <thead>\n",
       "    <tr style=\"text-align: right;\">\n",
       "      <th></th>\n",
       "      <th>listing_id</th>\n",
       "      <th>host_since</th>\n",
       "      <th>neighbourhood</th>\n",
       "      <th>city</th>\n",
       "      <th>accommodates</th>\n",
       "      <th>price</th>\n",
       "    </tr>\n",
       "  </thead>\n",
       "  <tbody>\n",
       "    <tr>\n",
       "      <th>0</th>\n",
       "      <td>281420</td>\n",
       "      <td>2011-12-03</td>\n",
       "      <td>Buttes-Montmartre</td>\n",
       "      <td>Paris</td>\n",
       "      <td>2</td>\n",
       "      <td>53</td>\n",
       "    </tr>\n",
       "    <tr>\n",
       "      <th>1</th>\n",
       "      <td>3705183</td>\n",
       "      <td>2013-11-29</td>\n",
       "      <td>Buttes-Montmartre</td>\n",
       "      <td>Paris</td>\n",
       "      <td>2</td>\n",
       "      <td>120</td>\n",
       "    </tr>\n",
       "    <tr>\n",
       "      <th>2</th>\n",
       "      <td>4082273</td>\n",
       "      <td>2014-07-31</td>\n",
       "      <td>Elysee</td>\n",
       "      <td>Paris</td>\n",
       "      <td>2</td>\n",
       "      <td>89</td>\n",
       "    </tr>\n",
       "    <tr>\n",
       "      <th>3</th>\n",
       "      <td>4797344</td>\n",
       "      <td>2013-12-17</td>\n",
       "      <td>Vaugirard</td>\n",
       "      <td>Paris</td>\n",
       "      <td>2</td>\n",
       "      <td>58</td>\n",
       "    </tr>\n",
       "    <tr>\n",
       "      <th>4</th>\n",
       "      <td>4823489</td>\n",
       "      <td>2014-12-14</td>\n",
       "      <td>Passy</td>\n",
       "      <td>Paris</td>\n",
       "      <td>2</td>\n",
       "      <td>60</td>\n",
       "    </tr>\n",
       "    <tr>\n",
       "      <th>...</th>\n",
       "      <td>...</td>\n",
       "      <td>...</td>\n",
       "      <td>...</td>\n",
       "      <td>...</td>\n",
       "      <td>...</td>\n",
       "      <td>...</td>\n",
       "    </tr>\n",
       "    <tr>\n",
       "      <th>279707</th>\n",
       "      <td>38338635</td>\n",
       "      <td>2015-04-13</td>\n",
       "      <td>Observatoire</td>\n",
       "      <td>Paris</td>\n",
       "      <td>2</td>\n",
       "      <td>120</td>\n",
       "    </tr>\n",
       "    <tr>\n",
       "      <th>279708</th>\n",
       "      <td>38538692</td>\n",
       "      <td>2013-11-27</td>\n",
       "      <td>Buttes-Montmartre</td>\n",
       "      <td>Paris</td>\n",
       "      <td>2</td>\n",
       "      <td>60</td>\n",
       "    </tr>\n",
       "    <tr>\n",
       "      <th>279709</th>\n",
       "      <td>38683356</td>\n",
       "      <td>2012-04-27</td>\n",
       "      <td>Buttes-Montmartre</td>\n",
       "      <td>Paris</td>\n",
       "      <td>2</td>\n",
       "      <td>50</td>\n",
       "    </tr>\n",
       "    <tr>\n",
       "      <th>279710</th>\n",
       "      <td>39659000</td>\n",
       "      <td>2015-07-16</td>\n",
       "      <td>Popincourt</td>\n",
       "      <td>Paris</td>\n",
       "      <td>2</td>\n",
       "      <td>105</td>\n",
       "    </tr>\n",
       "    <tr>\n",
       "      <th>279711</th>\n",
       "      <td>40219504</td>\n",
       "      <td>2013-06-17</td>\n",
       "      <td>Enclos-St-Laurent</td>\n",
       "      <td>Paris</td>\n",
       "      <td>2</td>\n",
       "      <td>70</td>\n",
       "    </tr>\n",
       "  </tbody>\n",
       "</table>\n",
       "<p>64690 rows × 6 columns</p>\n",
       "</div>"
      ],
      "text/plain": [
       "        listing_id  host_since      neighbourhood   city  accommodates  price\n",
       "0           281420  2011-12-03  Buttes-Montmartre  Paris             2     53\n",
       "1          3705183  2013-11-29  Buttes-Montmartre  Paris             2    120\n",
       "2          4082273  2014-07-31             Elysee  Paris             2     89\n",
       "3          4797344  2013-12-17          Vaugirard  Paris             2     58\n",
       "4          4823489  2014-12-14              Passy  Paris             2     60\n",
       "...            ...         ...                ...    ...           ...    ...\n",
       "279707    38338635  2015-04-13       Observatoire  Paris             2    120\n",
       "279708    38538692  2013-11-27  Buttes-Montmartre  Paris             2     60\n",
       "279709    38683356  2012-04-27  Buttes-Montmartre  Paris             2     50\n",
       "279710    39659000  2015-07-16         Popincourt  Paris             2    105\n",
       "279711    40219504  2013-06-17  Enclos-St-Laurent  Paris             2     70\n",
       "\n",
       "[64690 rows x 6 columns]"
      ]
     },
     "execution_count": 14,
     "metadata": {},
     "output_type": "execute_result"
    }
   ],
   "source": [
    "paris_listings"
   ]
  },
  {
   "cell_type": "markdown",
   "id": "40e3c696",
   "metadata": {
    "papermill": {
     "duration": 0.011167,
     "end_time": "2025-10-02T07:44:52.217470",
     "exception": false,
     "start_time": "2025-10-02T07:44:52.206303",
     "status": "completed"
    },
    "tags": []
   },
   "source": [
    "<div style=\"\n",
    "    background-color: #00a699; \n",
    "    color: white; \n",
    "    padding: 15px; \n",
    "    border-radius: 10px; \n",
    "    text-align: center; \n",
    "    font-size: 28px; \n",
    "    font-weight: bold;\n",
    "\">\n",
    "    Removing nulls\n",
    "</div>\n"
   ]
  },
  {
   "cell_type": "code",
   "execution_count": 15,
   "id": "c451d38d",
   "metadata": {
    "execution": {
     "iopub.execute_input": "2025-10-02T07:44:52.241882Z",
     "iopub.status.busy": "2025-10-02T07:44:52.241559Z",
     "iopub.status.idle": "2025-10-02T07:44:52.261577Z",
     "shell.execute_reply": "2025-10-02T07:44:52.260501Z"
    },
    "papermill": {
     "duration": 0.033864,
     "end_time": "2025-10-02T07:44:52.263087",
     "exception": false,
     "start_time": "2025-10-02T07:44:52.229223",
     "status": "completed"
    },
    "tags": []
   },
   "outputs": [
    {
     "name": "stdout",
     "output_type": "stream",
     "text": [
      "<class 'pandas.core.frame.DataFrame'>\n",
      "Index: 64690 entries, 0 to 279711\n",
      "Data columns (total 6 columns):\n",
      " #   Column         Non-Null Count  Dtype \n",
      "---  ------         --------------  ----- \n",
      " 0   listing_id     64690 non-null  int64 \n",
      " 1   host_since     64657 non-null  object\n",
      " 2   neighbourhood  64690 non-null  object\n",
      " 3   city           64690 non-null  object\n",
      " 4   accommodates   64690 non-null  int64 \n",
      " 5   price          64690 non-null  int64 \n",
      "dtypes: int64(3), object(3)\n",
      "memory usage: 3.5+ MB\n"
     ]
    }
   ],
   "source": [
    "paris_listings.info()"
   ]
  },
  {
   "cell_type": "code",
   "execution_count": 16,
   "id": "c5054429",
   "metadata": {
    "execution": {
     "iopub.execute_input": "2025-10-02T07:44:52.288064Z",
     "iopub.status.busy": "2025-10-02T07:44:52.287714Z",
     "iopub.status.idle": "2025-10-02T07:44:52.305442Z",
     "shell.execute_reply": "2025-10-02T07:44:52.304531Z"
    },
    "papermill": {
     "duration": 0.031889,
     "end_time": "2025-10-02T07:44:52.306968",
     "exception": false,
     "start_time": "2025-10-02T07:44:52.275079",
     "status": "completed"
    },
    "tags": []
   },
   "outputs": [
    {
     "data": {
      "text/plain": [
       "listing_id        0\n",
       "host_since       33\n",
       "neighbourhood     0\n",
       "city              0\n",
       "accommodates      0\n",
       "price             0\n",
       "dtype: int64"
      ]
     },
     "execution_count": 16,
     "metadata": {},
     "output_type": "execute_result"
    }
   ],
   "source": [
    "paris_listings.isna().sum()"
   ]
  },
  {
   "cell_type": "code",
   "execution_count": 17,
   "id": "1baa41a6",
   "metadata": {
    "execution": {
     "iopub.execute_input": "2025-10-02T07:44:52.332092Z",
     "iopub.status.busy": "2025-10-02T07:44:52.331814Z",
     "iopub.status.idle": "2025-10-02T07:44:52.353961Z",
     "shell.execute_reply": "2025-10-02T07:44:52.352822Z"
    },
    "papermill": {
     "duration": 0.036386,
     "end_time": "2025-10-02T07:44:52.355454",
     "exception": false,
     "start_time": "2025-10-02T07:44:52.319068",
     "status": "completed"
    },
    "tags": []
   },
   "outputs": [],
   "source": [
    "paris_listings[\"host_since\"] = pd.to_datetime(paris_listings[\"host_since\"])"
   ]
  },
  {
   "cell_type": "code",
   "execution_count": 18,
   "id": "2cc225c7",
   "metadata": {
    "execution": {
     "iopub.execute_input": "2025-10-02T07:44:52.380357Z",
     "iopub.status.busy": "2025-10-02T07:44:52.380061Z",
     "iopub.status.idle": "2025-10-02T07:44:52.397551Z",
     "shell.execute_reply": "2025-10-02T07:44:52.396580Z"
    },
    "papermill": {
     "duration": 0.031776,
     "end_time": "2025-10-02T07:44:52.399152",
     "exception": false,
     "start_time": "2025-10-02T07:44:52.367376",
     "status": "completed"
    },
    "tags": []
   },
   "outputs": [
    {
     "name": "stdout",
     "output_type": "stream",
     "text": [
      "<class 'pandas.core.frame.DataFrame'>\n",
      "Index: 64690 entries, 0 to 279711\n",
      "Data columns (total 6 columns):\n",
      " #   Column         Non-Null Count  Dtype         \n",
      "---  ------         --------------  -----         \n",
      " 0   listing_id     64690 non-null  int64         \n",
      " 1   host_since     64657 non-null  datetime64[ns]\n",
      " 2   neighbourhood  64690 non-null  object        \n",
      " 3   city           64690 non-null  object        \n",
      " 4   accommodates   64690 non-null  int64         \n",
      " 5   price          64690 non-null  int64         \n",
      "dtypes: datetime64[ns](1), int64(3), object(2)\n",
      "memory usage: 3.5+ MB\n"
     ]
    }
   ],
   "source": [
    "paris_listings.info()"
   ]
  },
  {
   "cell_type": "code",
   "execution_count": 19,
   "id": "602f7e27",
   "metadata": {
    "execution": {
     "iopub.execute_input": "2025-10-02T07:44:52.425067Z",
     "iopub.status.busy": "2025-10-02T07:44:52.424717Z",
     "iopub.status.idle": "2025-10-02T07:44:52.459557Z",
     "shell.execute_reply": "2025-10-02T07:44:52.458623Z"
    },
    "papermill": {
     "duration": 0.049401,
     "end_time": "2025-10-02T07:44:52.461131",
     "exception": false,
     "start_time": "2025-10-02T07:44:52.411730",
     "status": "completed"
    },
    "tags": []
   },
   "outputs": [
    {
     "data": {
      "text/html": [
       "<div>\n",
       "<style scoped>\n",
       "    .dataframe tbody tr th:only-of-type {\n",
       "        vertical-align: middle;\n",
       "    }\n",
       "\n",
       "    .dataframe tbody tr th {\n",
       "        vertical-align: top;\n",
       "    }\n",
       "\n",
       "    .dataframe thead th {\n",
       "        text-align: right;\n",
       "    }\n",
       "</style>\n",
       "<table border=\"1\" class=\"dataframe\">\n",
       "  <thead>\n",
       "    <tr style=\"text-align: right;\">\n",
       "      <th></th>\n",
       "      <th>listing_id</th>\n",
       "      <th>host_since</th>\n",
       "      <th>accommodates</th>\n",
       "      <th>price</th>\n",
       "    </tr>\n",
       "  </thead>\n",
       "  <tbody>\n",
       "    <tr>\n",
       "      <th>count</th>\n",
       "      <td>6.469000e+04</td>\n",
       "      <td>64657</td>\n",
       "      <td>64690.000000</td>\n",
       "      <td>64690.000000</td>\n",
       "    </tr>\n",
       "    <tr>\n",
       "      <th>mean</th>\n",
       "      <td>2.423686e+07</td>\n",
       "      <td>2015-11-01 11:06:05.528867584</td>\n",
       "      <td>3.037997</td>\n",
       "      <td>113.096445</td>\n",
       "    </tr>\n",
       "    <tr>\n",
       "      <th>min</th>\n",
       "      <td>2.577000e+03</td>\n",
       "      <td>2008-08-30 00:00:00</td>\n",
       "      <td>0.000000</td>\n",
       "      <td>0.000000</td>\n",
       "    </tr>\n",
       "    <tr>\n",
       "      <th>25%</th>\n",
       "      <td>1.180961e+07</td>\n",
       "      <td>2014-03-09 00:00:00</td>\n",
       "      <td>2.000000</td>\n",
       "      <td>59.000000</td>\n",
       "    </tr>\n",
       "    <tr>\n",
       "      <th>50%</th>\n",
       "      <td>2.394850e+07</td>\n",
       "      <td>2015-07-07 00:00:00</td>\n",
       "      <td>2.000000</td>\n",
       "      <td>80.000000</td>\n",
       "    </tr>\n",
       "    <tr>\n",
       "      <th>75%</th>\n",
       "      <td>3.720798e+07</td>\n",
       "      <td>2017-05-29 00:00:00</td>\n",
       "      <td>4.000000</td>\n",
       "      <td>120.000000</td>\n",
       "    </tr>\n",
       "    <tr>\n",
       "      <th>max</th>\n",
       "      <td>4.809185e+07</td>\n",
       "      <td>2021-02-07 00:00:00</td>\n",
       "      <td>16.000000</td>\n",
       "      <td>12000.000000</td>\n",
       "    </tr>\n",
       "    <tr>\n",
       "      <th>std</th>\n",
       "      <td>1.432657e+07</td>\n",
       "      <td>NaN</td>\n",
       "      <td>1.588766</td>\n",
       "      <td>214.433668</td>\n",
       "    </tr>\n",
       "  </tbody>\n",
       "</table>\n",
       "</div>"
      ],
      "text/plain": [
       "         listing_id                     host_since  accommodates         price\n",
       "count  6.469000e+04                          64657  64690.000000  64690.000000\n",
       "mean   2.423686e+07  2015-11-01 11:06:05.528867584      3.037997    113.096445\n",
       "min    2.577000e+03            2008-08-30 00:00:00      0.000000      0.000000\n",
       "25%    1.180961e+07            2014-03-09 00:00:00      2.000000     59.000000\n",
       "50%    2.394850e+07            2015-07-07 00:00:00      2.000000     80.000000\n",
       "75%    3.720798e+07            2017-05-29 00:00:00      4.000000    120.000000\n",
       "max    4.809185e+07            2021-02-07 00:00:00     16.000000  12000.000000\n",
       "std    1.432657e+07                            NaN      1.588766    214.433668"
      ]
     },
     "execution_count": 19,
     "metadata": {},
     "output_type": "execute_result"
    }
   ],
   "source": [
    "paris_listings.describe()"
   ]
  },
  {
   "cell_type": "markdown",
   "id": "a828bb6b",
   "metadata": {
    "papermill": {
     "duration": 0.012172,
     "end_time": "2025-10-02T07:44:52.485503",
     "exception": false,
     "start_time": "2025-10-02T07:44:52.473331",
     "status": "completed"
    },
    "tags": []
   },
   "source": [
    "<div style=\"\n",
    "    background-color: #00a699; \n",
    "    color: white; \n",
    "    padding: 15px; \n",
    "    border-radius: 10px; \n",
    "    text-align: center; \n",
    "    font-size: 28px; \n",
    "    font-weight: bold;\n",
    "\">\n",
    "    Removing zeros since they indicate missing data\n",
    "</div>\n"
   ]
  },
  {
   "cell_type": "code",
   "execution_count": 20,
   "id": "e824c611",
   "metadata": {
    "execution": {
     "iopub.execute_input": "2025-10-02T07:44:52.511201Z",
     "iopub.status.busy": "2025-10-02T07:44:52.510414Z",
     "iopub.status.idle": "2025-10-02T07:44:52.518233Z",
     "shell.execute_reply": "2025-10-02T07:44:52.517300Z"
    },
    "papermill": {
     "duration": 0.02228,
     "end_time": "2025-10-02T07:44:52.519772",
     "exception": false,
     "start_time": "2025-10-02T07:44:52.497492",
     "status": "completed"
    },
    "tags": []
   },
   "outputs": [],
   "source": [
    "paris_listings = paris_listings[(paris_listings[\"price\"]!=0)] "
   ]
  },
  {
   "cell_type": "code",
   "execution_count": 21,
   "id": "7ffc5dc9",
   "metadata": {
    "execution": {
     "iopub.execute_input": "2025-10-02T07:44:52.546500Z",
     "iopub.status.busy": "2025-10-02T07:44:52.546091Z",
     "iopub.status.idle": "2025-10-02T07:44:52.575299Z",
     "shell.execute_reply": "2025-10-02T07:44:52.574404Z"
    },
    "papermill": {
     "duration": 0.044983,
     "end_time": "2025-10-02T07:44:52.576845",
     "exception": false,
     "start_time": "2025-10-02T07:44:52.531862",
     "status": "completed"
    },
    "tags": []
   },
   "outputs": [
    {
     "data": {
      "text/html": [
       "<div>\n",
       "<style scoped>\n",
       "    .dataframe tbody tr th:only-of-type {\n",
       "        vertical-align: middle;\n",
       "    }\n",
       "\n",
       "    .dataframe tbody tr th {\n",
       "        vertical-align: top;\n",
       "    }\n",
       "\n",
       "    .dataframe thead th {\n",
       "        text-align: right;\n",
       "    }\n",
       "</style>\n",
       "<table border=\"1\" class=\"dataframe\">\n",
       "  <thead>\n",
       "    <tr style=\"text-align: right;\">\n",
       "      <th></th>\n",
       "      <th>listing_id</th>\n",
       "      <th>host_since</th>\n",
       "      <th>accommodates</th>\n",
       "      <th>price</th>\n",
       "    </tr>\n",
       "  </thead>\n",
       "  <tbody>\n",
       "    <tr>\n",
       "      <th>count</th>\n",
       "      <td>6.462800e+04</td>\n",
       "      <td>64595</td>\n",
       "      <td>64628.000000</td>\n",
       "      <td>64628.000000</td>\n",
       "    </tr>\n",
       "    <tr>\n",
       "      <th>mean</th>\n",
       "      <td>2.421767e+07</td>\n",
       "      <td>2015-10-30 22:46:09.985293056</td>\n",
       "      <td>3.040602</td>\n",
       "      <td>113.204942</td>\n",
       "    </tr>\n",
       "    <tr>\n",
       "      <th>min</th>\n",
       "      <td>2.577000e+03</td>\n",
       "      <td>2008-08-30 00:00:00</td>\n",
       "      <td>1.000000</td>\n",
       "      <td>8.000000</td>\n",
       "    </tr>\n",
       "    <tr>\n",
       "      <th>25%</th>\n",
       "      <td>1.179502e+07</td>\n",
       "      <td>2014-03-09 00:00:00</td>\n",
       "      <td>2.000000</td>\n",
       "      <td>59.000000</td>\n",
       "    </tr>\n",
       "    <tr>\n",
       "      <th>50%</th>\n",
       "      <td>2.391765e+07</td>\n",
       "      <td>2015-07-06 00:00:00</td>\n",
       "      <td>2.000000</td>\n",
       "      <td>80.000000</td>\n",
       "    </tr>\n",
       "    <tr>\n",
       "      <th>75%</th>\n",
       "      <td>3.717923e+07</td>\n",
       "      <td>2017-05-25 00:00:00</td>\n",
       "      <td>4.000000</td>\n",
       "      <td>120.000000</td>\n",
       "    </tr>\n",
       "    <tr>\n",
       "      <th>max</th>\n",
       "      <td>4.809185e+07</td>\n",
       "      <td>2021-02-07 00:00:00</td>\n",
       "      <td>16.000000</td>\n",
       "      <td>12000.000000</td>\n",
       "    </tr>\n",
       "    <tr>\n",
       "      <th>std</th>\n",
       "      <td>1.431997e+07</td>\n",
       "      <td>NaN</td>\n",
       "      <td>1.587078</td>\n",
       "      <td>214.507874</td>\n",
       "    </tr>\n",
       "  </tbody>\n",
       "</table>\n",
       "</div>"
      ],
      "text/plain": [
       "         listing_id                     host_since  accommodates         price\n",
       "count  6.462800e+04                          64595  64628.000000  64628.000000\n",
       "mean   2.421767e+07  2015-10-30 22:46:09.985293056      3.040602    113.204942\n",
       "min    2.577000e+03            2008-08-30 00:00:00      1.000000      8.000000\n",
       "25%    1.179502e+07            2014-03-09 00:00:00      2.000000     59.000000\n",
       "50%    2.391765e+07            2015-07-06 00:00:00      2.000000     80.000000\n",
       "75%    3.717923e+07            2017-05-25 00:00:00      4.000000    120.000000\n",
       "max    4.809185e+07            2021-02-07 00:00:00     16.000000  12000.000000\n",
       "std    1.431997e+07                            NaN      1.587078    214.507874"
      ]
     },
     "execution_count": 21,
     "metadata": {},
     "output_type": "execute_result"
    }
   ],
   "source": [
    "paris_listings.describe()"
   ]
  },
  {
   "cell_type": "code",
   "execution_count": 22,
   "id": "efc4929b",
   "metadata": {
    "execution": {
     "iopub.execute_input": "2025-10-02T07:44:52.603399Z",
     "iopub.status.busy": "2025-10-02T07:44:52.602426Z",
     "iopub.status.idle": "2025-10-02T07:44:54.889267Z",
     "shell.execute_reply": "2025-10-02T07:44:54.888424Z"
    },
    "papermill": {
     "duration": 2.301923,
     "end_time": "2025-10-02T07:44:54.891098",
     "exception": false,
     "start_time": "2025-10-02T07:44:52.589175",
     "status": "completed"
    },
    "tags": []
   },
   "outputs": [],
   "source": [
    "import matplotlib.pyplot as plt\n",
    "import seaborn as sns \n",
    "from scipy import stats "
   ]
  },
  {
   "cell_type": "markdown",
   "id": "6d81b3dd",
   "metadata": {
    "execution": {
     "iopub.execute_input": "2025-10-02T07:30:22.617426Z",
     "iopub.status.busy": "2025-10-02T07:30:22.617098Z",
     "iopub.status.idle": "2025-10-02T07:30:22.625178Z",
     "shell.execute_reply": "2025-10-02T07:30:22.623381Z",
     "shell.execute_reply.started": "2025-10-02T07:30:22.617408Z"
    },
    "papermill": {
     "duration": 0.012753,
     "end_time": "2025-10-02T07:44:54.916378",
     "exception": false,
     "start_time": "2025-10-02T07:44:54.903625",
     "status": "completed"
    },
    "tags": []
   },
   "source": [
    "<div style=\"\n",
    "    background-color: #00a699; \n",
    "    color: white; \n",
    "    padding: 15px; \n",
    "    border-radius: 10px; \n",
    "    text-align: center; \n",
    "    font-size: 28px; \n",
    "    font-weight: bold;\n",
    "\">\n",
    "    Detecting Outliers\n",
    "</div>\n"
   ]
  },
  {
   "cell_type": "code",
   "execution_count": 23,
   "id": "fabb4f74",
   "metadata": {
    "execution": {
     "iopub.execute_input": "2025-10-02T07:44:54.944400Z",
     "iopub.status.busy": "2025-10-02T07:44:54.943437Z",
     "iopub.status.idle": "2025-10-02T07:44:55.344627Z",
     "shell.execute_reply": "2025-10-02T07:44:55.343796Z"
    },
    "papermill": {
     "duration": 0.416798,
     "end_time": "2025-10-02T07:44:55.346122",
     "exception": false,
     "start_time": "2025-10-02T07:44:54.929324",
     "status": "completed"
    },
    "tags": []
   },
   "outputs": [
    {
     "data": {
      "text/plain": [
       "<Axes: >"
      ]
     },
     "execution_count": 23,
     "metadata": {},
     "output_type": "execute_result"
    },
    {
     "data": {
      "image/png": "[encoded data removed]",
      "text/plain": [
       "<Figure size 640x480 with 1 Axes>"
      ]
     },
     "metadata": {},
     "output_type": "display_data"
    }
   ],
   "source": [
    "sns.boxplot(paris_listings[\"price\"])"
   ]
  },
  {
   "cell_type": "code",
   "execution_count": 24,
   "id": "6d856057",
   "metadata": {
    "execution": {
     "iopub.execute_input": "2025-10-02T07:44:55.372903Z",
     "iopub.status.busy": "2025-10-02T07:44:55.372556Z",
     "iopub.status.idle": "2025-10-02T07:44:55.921768Z",
     "shell.execute_reply": "2025-10-02T07:44:55.920534Z"
    },
    "papermill": {
     "duration": 0.564347,
     "end_time": "2025-10-02T07:44:55.923324",
     "exception": false,
     "start_time": "2025-10-02T07:44:55.358977",
     "status": "completed"
    },
    "tags": []
   },
   "outputs": [
    {
     "data": {
      "image/png": "[encoded data removed]",
      "text/plain": [
       "<Figure size 640x480 with 1 Axes>"
      ]
     },
     "metadata": {},
     "output_type": "display_data"
    }
   ],
   "source": [
    "sns.kdeplot(paris_listings[\"price\"])\n",
    "plt.show()"
   ]
  },
  {
   "cell_type": "code",
   "execution_count": 25,
   "id": "d5ad6af5",
   "metadata": {
    "execution": {
     "iopub.execute_input": "2025-10-02T07:44:55.951471Z",
     "iopub.status.busy": "2025-10-02T07:44:55.950619Z",
     "iopub.status.idle": "2025-10-02T07:44:55.963110Z",
     "shell.execute_reply": "2025-10-02T07:44:55.962176Z"
    },
    "papermill": {
     "duration": 0.027984,
     "end_time": "2025-10-02T07:44:55.964653",
     "exception": false,
     "start_time": "2025-10-02T07:44:55.936669",
     "status": "completed"
    },
    "tags": []
   },
   "outputs": [
    {
     "data": {
      "text/plain": [
       "(120.0, 80.0, 59.0)"
      ]
     },
     "execution_count": 25,
     "metadata": {},
     "output_type": "execute_result"
    }
   ],
   "source": [
    "paris_listings[\"price\"].quantile(0.75),paris_listings[\"price\"].quantile(0.5),paris_listings[\"price\"].quantile(0.25)"
   ]
  },
  {
   "cell_type": "code",
   "execution_count": 26,
   "id": "19210146",
   "metadata": {
    "execution": {
     "iopub.execute_input": "2025-10-02T07:44:55.993011Z",
     "iopub.status.busy": "2025-10-02T07:44:55.992008Z",
     "iopub.status.idle": "2025-10-02T07:44:55.997993Z",
     "shell.execute_reply": "2025-10-02T07:44:55.997121Z"
    },
    "papermill": {
     "duration": 0.021787,
     "end_time": "2025-10-02T07:44:55.999673",
     "exception": false,
     "start_time": "2025-10-02T07:44:55.977886",
     "status": "completed"
    },
    "tags": []
   },
   "outputs": [],
   "source": [
    "upper_limit= np.mean(paris_listings[\"price\"]) + 3*np.std(paris_listings[\"price\"])"
   ]
  },
  {
   "cell_type": "markdown",
   "id": "e1f4e9d2",
   "metadata": {
    "papermill": {
     "duration": 0.013325,
     "end_time": "2025-10-02T07:44:56.026540",
     "exception": false,
     "start_time": "2025-10-02T07:44:56.013215",
     "status": "completed"
    },
    "tags": []
   },
   "source": [
    "<div style=\"\n",
    "    background-color: #00a699; \n",
    "    color: white; \n",
    "    padding: 15px; \n",
    "    border-radius: 10px; \n",
    "    text-align: center; \n",
    "    font-size: 28px; \n",
    "    font-weight: bold;\n",
    "\">\n",
    "    Removing Properties with Exponentially high prices, 3 Standard Deviation Away\n",
    "</div>"
   ]
  },
  {
   "cell_type": "code",
   "execution_count": 27,
   "id": "718595e3",
   "metadata": {
    "execution": {
     "iopub.execute_input": "2025-10-02T07:44:56.053987Z",
     "iopub.status.busy": "2025-10-02T07:44:56.053636Z",
     "iopub.status.idle": "2025-10-02T07:44:56.062350Z",
     "shell.execute_reply": "2025-10-02T07:44:56.061380Z"
    },
    "papermill": {
     "duration": 0.024708,
     "end_time": "2025-10-02T07:44:56.064422",
     "exception": false,
     "start_time": "2025-10-02T07:44:56.039714",
     "status": "completed"
    },
    "tags": []
   },
   "outputs": [],
   "source": [
    "paris_listings = paris_listings[paris_listings[\"price\"]<upper_limit]"
   ]
  },
  {
   "cell_type": "code",
   "execution_count": 28,
   "id": "a01f17ca",
   "metadata": {
    "execution": {
     "iopub.execute_input": "2025-10-02T07:44:56.092667Z",
     "iopub.status.busy": "2025-10-02T07:44:56.091706Z",
     "iopub.status.idle": "2025-10-02T07:44:56.121012Z",
     "shell.execute_reply": "2025-10-02T07:44:56.119938Z"
    },
    "papermill": {
     "duration": 0.045,
     "end_time": "2025-10-02T07:44:56.122730",
     "exception": false,
     "start_time": "2025-10-02T07:44:56.077730",
     "status": "completed"
    },
    "tags": []
   },
   "outputs": [
    {
     "data": {
      "text/html": [
       "<div>\n",
       "<style scoped>\n",
       "    .dataframe tbody tr th:only-of-type {\n",
       "        vertical-align: middle;\n",
       "    }\n",
       "\n",
       "    .dataframe tbody tr th {\n",
       "        vertical-align: top;\n",
       "    }\n",
       "\n",
       "    .dataframe thead th {\n",
       "        text-align: right;\n",
       "    }\n",
       "</style>\n",
       "<table border=\"1\" class=\"dataframe\">\n",
       "  <thead>\n",
       "    <tr style=\"text-align: right;\">\n",
       "      <th></th>\n",
       "      <th>listing_id</th>\n",
       "      <th>host_since</th>\n",
       "      <th>accommodates</th>\n",
       "      <th>price</th>\n",
       "    </tr>\n",
       "  </thead>\n",
       "  <tbody>\n",
       "    <tr>\n",
       "      <th>count</th>\n",
       "      <td>6.422500e+04</td>\n",
       "      <td>64192</td>\n",
       "      <td>64225.000000</td>\n",
       "      <td>64225.000000</td>\n",
       "    </tr>\n",
       "    <tr>\n",
       "      <th>mean</th>\n",
       "      <td>2.417615e+07</td>\n",
       "      <td>2015-10-28 06:37:15.643070720</td>\n",
       "      <td>3.018497</td>\n",
       "      <td>103.215228</td>\n",
       "    </tr>\n",
       "    <tr>\n",
       "      <th>min</th>\n",
       "      <td>2.577000e+03</td>\n",
       "      <td>2008-08-30 00:00:00</td>\n",
       "      <td>1.000000</td>\n",
       "      <td>8.000000</td>\n",
       "    </tr>\n",
       "    <tr>\n",
       "      <th>25%</th>\n",
       "      <td>1.175164e+07</td>\n",
       "      <td>2014-03-07 00:00:00</td>\n",
       "      <td>2.000000</td>\n",
       "      <td>59.000000</td>\n",
       "    </tr>\n",
       "    <tr>\n",
       "      <th>50%</th>\n",
       "      <td>2.383639e+07</td>\n",
       "      <td>2015-07-05 00:00:00</td>\n",
       "      <td>2.000000</td>\n",
       "      <td>80.000000</td>\n",
       "    </tr>\n",
       "    <tr>\n",
       "      <th>75%</th>\n",
       "      <td>3.714336e+07</td>\n",
       "      <td>2017-05-20 00:00:00</td>\n",
       "      <td>4.000000</td>\n",
       "      <td>119.000000</td>\n",
       "    </tr>\n",
       "    <tr>\n",
       "      <th>max</th>\n",
       "      <td>4.809185e+07</td>\n",
       "      <td>2021-02-07 00:00:00</td>\n",
       "      <td>16.000000</td>\n",
       "      <td>756.000000</td>\n",
       "    </tr>\n",
       "    <tr>\n",
       "      <th>std</th>\n",
       "      <td>1.431464e+07</td>\n",
       "      <td>NaN</td>\n",
       "      <td>1.528636</td>\n",
       "      <td>81.351989</td>\n",
       "    </tr>\n",
       "  </tbody>\n",
       "</table>\n",
       "</div>"
      ],
      "text/plain": [
       "         listing_id                     host_since  accommodates         price\n",
       "count  6.422500e+04                          64192  64225.000000  64225.000000\n",
       "mean   2.417615e+07  2015-10-28 06:37:15.643070720      3.018497    103.215228\n",
       "min    2.577000e+03            2008-08-30 00:00:00      1.000000      8.000000\n",
       "25%    1.175164e+07            2014-03-07 00:00:00      2.000000     59.000000\n",
       "50%    2.383639e+07            2015-07-05 00:00:00      2.000000     80.000000\n",
       "75%    3.714336e+07            2017-05-20 00:00:00      4.000000    119.000000\n",
       "max    4.809185e+07            2021-02-07 00:00:00     16.000000    756.000000\n",
       "std    1.431464e+07                            NaN      1.528636     81.351989"
      ]
     },
     "execution_count": 28,
     "metadata": {},
     "output_type": "execute_result"
    }
   ],
   "source": [
    "paris_listings.describe()"
   ]
  },
  {
   "cell_type": "code",
   "execution_count": 29,
   "id": "6ed1548b",
   "metadata": {
    "execution": {
     "iopub.execute_input": "2025-10-02T07:44:56.151547Z",
     "iopub.status.busy": "2025-10-02T07:44:56.151206Z",
     "iopub.status.idle": "2025-10-02T07:44:56.177805Z",
     "shell.execute_reply": "2025-10-02T07:44:56.177048Z"
    },
    "papermill": {
     "duration": 0.043033,
     "end_time": "2025-10-02T07:44:56.179382",
     "exception": false,
     "start_time": "2025-10-02T07:44:56.136349",
     "status": "completed"
    },
    "tags": []
   },
   "outputs": [
    {
     "data": {
      "text/html": [
       "<div>\n",
       "<style scoped>\n",
       "    .dataframe tbody tr th:only-of-type {\n",
       "        vertical-align: middle;\n",
       "    }\n",
       "\n",
       "    .dataframe tbody tr th {\n",
       "        vertical-align: top;\n",
       "    }\n",
       "\n",
       "    .dataframe thead th {\n",
       "        text-align: right;\n",
       "    }\n",
       "</style>\n",
       "<table border=\"1\" class=\"dataframe\">\n",
       "  <thead>\n",
       "    <tr style=\"text-align: right;\">\n",
       "      <th></th>\n",
       "      <th>neighbourhood</th>\n",
       "      <th>city</th>\n",
       "    </tr>\n",
       "  </thead>\n",
       "  <tbody>\n",
       "    <tr>\n",
       "      <th>count</th>\n",
       "      <td>64225</td>\n",
       "      <td>64225</td>\n",
       "    </tr>\n",
       "    <tr>\n",
       "      <th>unique</th>\n",
       "      <td>20</td>\n",
       "      <td>1</td>\n",
       "    </tr>\n",
       "    <tr>\n",
       "      <th>top</th>\n",
       "      <td>Buttes-Montmartre</td>\n",
       "      <td>Paris</td>\n",
       "    </tr>\n",
       "    <tr>\n",
       "      <th>freq</th>\n",
       "      <td>7208</td>\n",
       "      <td>64225</td>\n",
       "    </tr>\n",
       "  </tbody>\n",
       "</table>\n",
       "</div>"
      ],
      "text/plain": [
       "            neighbourhood   city\n",
       "count               64225  64225\n",
       "unique                 20      1\n",
       "top     Buttes-Montmartre  Paris\n",
       "freq                 7208  64225"
      ]
     },
     "execution_count": 29,
     "metadata": {},
     "output_type": "execute_result"
    }
   ],
   "source": [
    "paris_listings.describe(include = \"object\")"
   ]
  },
  {
   "cell_type": "code",
   "execution_count": 30,
   "id": "a969720b",
   "metadata": {
    "execution": {
     "iopub.execute_input": "2025-10-02T07:44:56.208280Z",
     "iopub.status.busy": "2025-10-02T07:44:56.207353Z",
     "iopub.status.idle": "2025-10-02T07:44:56.218767Z",
     "shell.execute_reply": "2025-10-02T07:44:56.217816Z"
    },
    "papermill": {
     "duration": 0.027216,
     "end_time": "2025-10-02T07:44:56.220287",
     "exception": false,
     "start_time": "2025-10-02T07:44:56.193071",
     "status": "completed"
    },
    "tags": []
   },
   "outputs": [
    {
     "data": {
      "text/plain": [
       "neighbourhood\n",
       "Buttes-Montmartre      7208\n",
       "Popincourt             6195\n",
       "Vaugirard              4800\n",
       "Enclos-St-Laurent      4603\n",
       "Batignolles-Monceau    4310\n",
       "Menilmontant           3751\n",
       "Buttes-Chaumont        3712\n",
       "Passy                  3160\n",
       "Opera                  3143\n",
       "Temple                 2921\n",
       "Reuilly                2644\n",
       "Observatoire           2472\n",
       "Gobelins               2271\n",
       "Bourse                 2147\n",
       "Pantheon               2128\n",
       "Luxembourg             1975\n",
       "Hotel-de-Ville         1960\n",
       "Palais-Bourbon         1742\n",
       "Elysee                 1694\n",
       "Louvre                 1389\n",
       "Name: count, dtype: int64"
      ]
     },
     "execution_count": 30,
     "metadata": {},
     "output_type": "execute_result"
    }
   ],
   "source": [
    "paris_listings[\"neighbourhood\"].value_counts()"
   ]
  },
  {
   "cell_type": "code",
   "execution_count": 31,
   "id": "aa582d6f",
   "metadata": {
    "execution": {
     "iopub.execute_input": "2025-10-02T07:44:56.249945Z",
     "iopub.status.busy": "2025-10-02T07:44:56.248866Z",
     "iopub.status.idle": "2025-10-02T07:44:56.264172Z",
     "shell.execute_reply": "2025-10-02T07:44:56.263109Z"
    },
    "papermill": {
     "duration": 0.03158,
     "end_time": "2025-10-02T07:44:56.265842",
     "exception": false,
     "start_time": "2025-10-02T07:44:56.234262",
     "status": "completed"
    },
    "tags": []
   },
   "outputs": [],
   "source": [
    "paris_listings_avg_price = paris_listings.groupby(\"neighbourhood\").agg({\"price\":\"mean\"})\n",
    "paris_listings_avg_price.sort_values(\"price\",ascending = False,inplace =  True)"
   ]
  },
  {
   "cell_type": "markdown",
   "id": "a10e825d",
   "metadata": {
    "papermill": {
     "duration": 0.014563,
     "end_time": "2025-10-02T07:44:56.293967",
     "exception": false,
     "start_time": "2025-10-02T07:44:56.279404",
     "status": "completed"
    },
    "tags": []
   },
   "source": [
    "<div style=\"\n",
    "    background-color: #00a699; \n",
    "    color: white; \n",
    "    padding: 15px; \n",
    "    border-radius: 10px; \n",
    "    text-align: center; \n",
    "    font-size: 28px; \n",
    "    font-weight: bold;\n",
    "\">\n",
    "    Looking at the Most relevant Localities in Paris\n",
    "</div>"
   ]
  },
  {
   "cell_type": "code",
   "execution_count": 32,
   "id": "c7c75f02",
   "metadata": {
    "execution": {
     "iopub.execute_input": "2025-10-02T07:44:56.324310Z",
     "iopub.status.busy": "2025-10-02T07:44:56.323434Z",
     "iopub.status.idle": "2025-10-02T07:44:56.333301Z",
     "shell.execute_reply": "2025-10-02T07:44:56.332334Z"
    },
    "papermill": {
     "duration": 0.026125,
     "end_time": "2025-10-02T07:44:56.334831",
     "exception": false,
     "start_time": "2025-10-02T07:44:56.308706",
     "status": "completed"
    },
    "tags": []
   },
   "outputs": [
    {
     "data": {
      "text/html": [
       "<div>\n",
       "<style scoped>\n",
       "    .dataframe tbody tr th:only-of-type {\n",
       "        vertical-align: middle;\n",
       "    }\n",
       "\n",
       "    .dataframe tbody tr th {\n",
       "        vertical-align: top;\n",
       "    }\n",
       "\n",
       "    .dataframe thead th {\n",
       "        text-align: right;\n",
       "    }\n",
       "</style>\n",
       "<table border=\"1\" class=\"dataframe\">\n",
       "  <thead>\n",
       "    <tr style=\"text-align: right;\">\n",
       "      <th></th>\n",
       "      <th>price</th>\n",
       "    </tr>\n",
       "    <tr>\n",
       "      <th>neighbourhood</th>\n",
       "      <th></th>\n",
       "    </tr>\n",
       "  </thead>\n",
       "  <tbody>\n",
       "    <tr>\n",
       "      <th>Elysee</th>\n",
       "      <td>170.344746</td>\n",
       "    </tr>\n",
       "    <tr>\n",
       "      <th>Louvre</th>\n",
       "      <td>149.980562</td>\n",
       "    </tr>\n",
       "    <tr>\n",
       "      <th>Luxembourg</th>\n",
       "      <td>144.372658</td>\n",
       "    </tr>\n",
       "    <tr>\n",
       "      <th>Palais-Bourbon</th>\n",
       "      <td>142.128588</td>\n",
       "    </tr>\n",
       "    <tr>\n",
       "      <th>Hotel-de-Ville</th>\n",
       "      <td>137.329082</td>\n",
       "    </tr>\n",
       "    <tr>\n",
       "      <th>Passy</th>\n",
       "      <td>132.566772</td>\n",
       "    </tr>\n",
       "    <tr>\n",
       "      <th>Bourse</th>\n",
       "      <td>132.476479</td>\n",
       "    </tr>\n",
       "    <tr>\n",
       "      <th>Temple</th>\n",
       "      <td>126.461143</td>\n",
       "    </tr>\n",
       "    <tr>\n",
       "      <th>Pantheon</th>\n",
       "      <td>117.950658</td>\n",
       "    </tr>\n",
       "    <tr>\n",
       "      <th>Opera</th>\n",
       "      <td>113.699332</td>\n",
       "    </tr>\n",
       "    <tr>\n",
       "      <th>Vaugirard</th>\n",
       "      <td>99.870417</td>\n",
       "    </tr>\n",
       "    <tr>\n",
       "      <th>Batignolles-Monceau</th>\n",
       "      <td>96.875870</td>\n",
       "    </tr>\n",
       "    <tr>\n",
       "      <th>Enclos-St-Laurent</th>\n",
       "      <td>96.153378</td>\n",
       "    </tr>\n",
       "    <tr>\n",
       "      <th>Observatoire</th>\n",
       "      <td>91.031958</td>\n",
       "    </tr>\n",
       "    <tr>\n",
       "      <th>Popincourt</th>\n",
       "      <td>88.969007</td>\n",
       "    </tr>\n",
       "    <tr>\n",
       "      <th>Reuilly</th>\n",
       "      <td>83.023071</td>\n",
       "    </tr>\n",
       "    <tr>\n",
       "      <th>Gobelins</th>\n",
       "      <td>82.245266</td>\n",
       "    </tr>\n",
       "    <tr>\n",
       "      <th>Buttes-Montmartre</th>\n",
       "      <td>81.125277</td>\n",
       "    </tr>\n",
       "    <tr>\n",
       "      <th>Buttes-Chaumont</th>\n",
       "      <td>72.912985</td>\n",
       "    </tr>\n",
       "    <tr>\n",
       "      <th>Menilmontant</th>\n",
       "      <td>72.444148</td>\n",
       "    </tr>\n",
       "  </tbody>\n",
       "</table>\n",
       "</div>"
      ],
      "text/plain": [
       "                          price\n",
       "neighbourhood                  \n",
       "Elysee               170.344746\n",
       "Louvre               149.980562\n",
       "Luxembourg           144.372658\n",
       "Palais-Bourbon       142.128588\n",
       "Hotel-de-Ville       137.329082\n",
       "Passy                132.566772\n",
       "Bourse               132.476479\n",
       "Temple               126.461143\n",
       "Pantheon             117.950658\n",
       "Opera                113.699332\n",
       "Vaugirard             99.870417\n",
       "Batignolles-Monceau   96.875870\n",
       "Enclos-St-Laurent     96.153378\n",
       "Observatoire          91.031958\n",
       "Popincourt            88.969007\n",
       "Reuilly               83.023071\n",
       "Gobelins              82.245266\n",
       "Buttes-Montmartre     81.125277\n",
       "Buttes-Chaumont       72.912985\n",
       "Menilmontant          72.444148"
      ]
     },
     "execution_count": 32,
     "metadata": {},
     "output_type": "execute_result"
    }
   ],
   "source": [
    "paris_listings_avg_price"
   ]
  },
  {
   "cell_type": "code",
   "execution_count": 33,
   "id": "2eea2434",
   "metadata": {
    "execution": {
     "iopub.execute_input": "2025-10-02T07:44:56.363587Z",
     "iopub.status.busy": "2025-10-02T07:44:56.363223Z",
     "iopub.status.idle": "2025-10-02T07:44:56.704323Z",
     "shell.execute_reply": "2025-10-02T07:44:56.703266Z"
    },
    "papermill": {
     "duration": 0.357785,
     "end_time": "2025-10-02T07:44:56.706341",
     "exception": false,
     "start_time": "2025-10-02T07:44:56.348556",
     "status": "completed"
    },
    "tags": []
   },
   "outputs": [
    {
     "data": {
      "image/png": "[encoded data removed]",
      "text/plain": [
       "<Figure size 1200x800 with 1 Axes>"
      ]
     },
     "metadata": {},
     "output_type": "display_data"
    }
   ],
   "source": [
    "plt.figure(figsize = (12,8))\n",
    "sns.barplot(data = paris_listings_avg_price,\n",
    "           x = \"price\",\n",
    "            y = paris_listings_avg_price.index,color = \"#ff5a5f\")\n",
    "plt.title(\"neighbourhoods in Paris (Premium Localities at the top!)\t\")\n",
    "plt.xlabel(\"How Expensive ? (Euros)\")\n",
    "plt.ylabel(\"Prominent Localities with AirBnBs\")\n",
    "plt.show()"
   ]
  },
  {
   "cell_type": "markdown",
   "id": "388fac6b",
   "metadata": {
    "papermill": {
     "duration": 0.015481,
     "end_time": "2025-10-02T07:44:56.738176",
     "exception": false,
     "start_time": "2025-10-02T07:44:56.722695",
     "status": "completed"
    },
    "tags": []
   },
   "source": [
    "### Insight on Average Nightly Prices by Locality in Paris\n",
    "\n",
    "- The **most expensive areas** are central and prestigious districts such as **Elysee (€170/night)**, **Louvre (€150/night)**, and **Luxembourg (€144/night)**. These neighborhoods are close to iconic landmarks, luxury shopping, and government or cultural institutions, which drives up demand and prices.  \n",
    "\n",
    "- Mid-range prices are seen in areas like **Temple (€126/night)**, **Pantheon (€118/night)**, and **Opera (€114/night)**. These are still popular, but slightly less exclusive compared to the top-tier localities.  \n",
    "\n",
    "- The **more affordable neighborhoods** include **Menilmontant (€72/night)**, **Buttes-Chaumont (€73/night)**, and **Buttes-Montmartre (€81/night)**. These districts are further from the tourist-heavy city center but may appeal to budget-conscious travelers or those seeking a more local experience.  \n",
    "\n",
    "**Overall:** The price gradient reflects proximity to cultural hotspots and affluence of the locality. Central, historic, and tourist-heavy areas command higher prices, while outer neighborhoods offer budget-friendly options.\n"
   ]
  },
  {
   "cell_type": "markdown",
   "id": "705bd84c",
   "metadata": {
    "papermill": {
     "duration": 0.014947,
     "end_time": "2025-10-02T07:44:56.768465",
     "exception": false,
     "start_time": "2025-10-02T07:44:56.753518",
     "status": "completed"
    },
    "tags": []
   },
   "source": [
    "<div style=\"\n",
    "    background-color: #00a699; \n",
    "    color: white; \n",
    "    padding: 15px; \n",
    "    border-radius: 10px; \n",
    "    text-align: center; \n",
    "    font-size: 28px; \n",
    "    font-weight: bold;\n",
    "\">\n",
    "    Does Price Change as per number of Guests?\n",
    "</div>\n"
   ]
  },
  {
   "cell_type": "code",
   "execution_count": 34,
   "id": "466ea66a",
   "metadata": {
    "execution": {
     "iopub.execute_input": "2025-10-02T07:44:56.800375Z",
     "iopub.status.busy": "2025-10-02T07:44:56.800068Z",
     "iopub.status.idle": "2025-10-02T07:44:56.808934Z",
     "shell.execute_reply": "2025-10-02T07:44:56.807918Z"
    },
    "papermill": {
     "duration": 0.026202,
     "end_time": "2025-10-02T07:44:56.810332",
     "exception": false,
     "start_time": "2025-10-02T07:44:56.784130",
     "status": "completed"
    },
    "tags": []
   },
   "outputs": [],
   "source": [
    "paris_listings_accommodates = paris_listings.groupby(\"accommodates\").agg({\"price\":\"mean\"})\n",
    "paris_listings_accommodates.sort_values(\"price\",ascending = False,inplace =  True)\n"
   ]
  },
  {
   "cell_type": "code",
   "execution_count": 35,
   "id": "83da3804",
   "metadata": {
    "execution": {
     "iopub.execute_input": "2025-10-02T07:44:56.844079Z",
     "iopub.status.busy": "2025-10-02T07:44:56.842908Z",
     "iopub.status.idle": "2025-10-02T07:44:56.869549Z",
     "shell.execute_reply": "2025-10-02T07:44:56.868591Z"
    },
    "papermill": {
     "duration": 0.044974,
     "end_time": "2025-10-02T07:44:56.871099",
     "exception": false,
     "start_time": "2025-10-02T07:44:56.826125",
     "status": "completed"
    },
    "tags": []
   },
   "outputs": [
    {
     "data": {
      "text/html": [
       "<div>\n",
       "<style scoped>\n",
       "    .dataframe tbody tr th:only-of-type {\n",
       "        vertical-align: middle;\n",
       "    }\n",
       "\n",
       "    .dataframe tbody tr th {\n",
       "        vertical-align: top;\n",
       "    }\n",
       "\n",
       "    .dataframe thead th {\n",
       "        text-align: right;\n",
       "    }\n",
       "</style>\n",
       "<table border=\"1\" class=\"dataframe\">\n",
       "  <thead>\n",
       "    <tr style=\"text-align: right;\">\n",
       "      <th></th>\n",
       "      <th>price</th>\n",
       "    </tr>\n",
       "    <tr>\n",
       "      <th>accommodates</th>\n",
       "      <th></th>\n",
       "    </tr>\n",
       "  </thead>\n",
       "  <tbody>\n",
       "    <tr>\n",
       "      <th>13</th>\n",
       "      <td>475.000000</td>\n",
       "    </tr>\n",
       "    <tr>\n",
       "      <th>14</th>\n",
       "      <td>438.125000</td>\n",
       "    </tr>\n",
       "    <tr>\n",
       "      <th>11</th>\n",
       "      <td>419.880000</td>\n",
       "    </tr>\n",
       "    <tr>\n",
       "      <th>12</th>\n",
       "      <td>396.466667</td>\n",
       "    </tr>\n",
       "    <tr>\n",
       "      <th>15</th>\n",
       "      <td>337.250000</td>\n",
       "    </tr>\n",
       "    <tr>\n",
       "      <th>9</th>\n",
       "      <td>335.807229</td>\n",
       "    </tr>\n",
       "    <tr>\n",
       "      <th>10</th>\n",
       "      <td>329.181818</td>\n",
       "    </tr>\n",
       "    <tr>\n",
       "      <th>8</th>\n",
       "      <td>271.328909</td>\n",
       "    </tr>\n",
       "    <tr>\n",
       "      <th>7</th>\n",
       "      <td>231.254902</td>\n",
       "    </tr>\n",
       "    <tr>\n",
       "      <th>16</th>\n",
       "      <td>213.117647</td>\n",
       "    </tr>\n",
       "    <tr>\n",
       "      <th>6</th>\n",
       "      <td>197.654414</td>\n",
       "    </tr>\n",
       "    <tr>\n",
       "      <th>5</th>\n",
       "      <td>157.627737</td>\n",
       "    </tr>\n",
       "    <tr>\n",
       "      <th>4</th>\n",
       "      <td>118.325113</td>\n",
       "    </tr>\n",
       "    <tr>\n",
       "      <th>3</th>\n",
       "      <td>95.861466</td>\n",
       "    </tr>\n",
       "    <tr>\n",
       "      <th>2</th>\n",
       "      <td>78.904151</td>\n",
       "    </tr>\n",
       "    <tr>\n",
       "      <th>1</th>\n",
       "      <td>55.750155</td>\n",
       "    </tr>\n",
       "  </tbody>\n",
       "</table>\n",
       "</div>"
      ],
      "text/plain": [
       "                   price\n",
       "accommodates            \n",
       "13            475.000000\n",
       "14            438.125000\n",
       "11            419.880000\n",
       "12            396.466667\n",
       "15            337.250000\n",
       "9             335.807229\n",
       "10            329.181818\n",
       "8             271.328909\n",
       "7             231.254902\n",
       "16            213.117647\n",
       "6             197.654414\n",
       "5             157.627737\n",
       "4             118.325113\n",
       "3              95.861466\n",
       "2              78.904151\n",
       "1              55.750155"
      ]
     },
     "execution_count": 35,
     "metadata": {},
     "output_type": "execute_result"
    }
   ],
   "source": [
    "paris_listings_accommodates"
   ]
  },
  {
   "cell_type": "markdown",
   "id": "3c928d6c",
   "metadata": {
    "papermill": {
     "duration": 0.015745,
     "end_time": "2025-10-02T07:44:56.902431",
     "exception": false,
     "start_time": "2025-10-02T07:44:56.886686",
     "status": "completed"
    },
    "tags": []
   },
   "source": [
    "### Insight on Accommodation Capacity and Average Prices\n",
    "\n",
    "- As expected, listings that accommodate **more guests** tend to have **higher nightly prices**.  \n",
    "  - Small units for **1–2 guests** are the cheapest, averaging around **€56–79/night**.  \n",
    "  - Medium-sized listings for **4–6 guests** range from **€118–198/night**.  \n",
    "  - Large properties hosting **10+ guests** are much more expensive, often exceeding **€300/night**.\n",
    "\n",
    "- The **highest average prices** are for large group accommodations:  \n",
    "  - **13 guests: €475/night**  \n",
    "  - **14 guests: €438/night**  \n",
    "  - **11 guests: €420/night**  \n",
    "\n",
    "- Interestingly, beyond a certain point (e.g., 15–16 guests), the average price does not continue to rise proportionally, suggesting a niche but limited demand for **very large properties**.\n",
    "\n",
    "**Overall:** Prices scale with accommodation size, but the relationship is not perfectly linear. Small apartments dominate budget travel, while large listings cater to premium or group stays, commanding much higher rates.\n"
   ]
  },
  {
   "cell_type": "code",
   "execution_count": 36,
   "id": "e49aebd6",
   "metadata": {
    "execution": {
     "iopub.execute_input": "2025-10-02T07:44:56.935322Z",
     "iopub.status.busy": "2025-10-02T07:44:56.935011Z",
     "iopub.status.idle": "2025-10-02T07:44:57.371697Z",
     "shell.execute_reply": "2025-10-02T07:44:57.370799Z"
    },
    "papermill": {
     "duration": 0.455124,
     "end_time": "2025-10-02T07:44:57.373362",
     "exception": false,
     "start_time": "2025-10-02T07:44:56.918238",
     "status": "completed"
    },
    "tags": []
   },
   "outputs": [
    {
     "data": {
      "image/png": "[encoded data removed]",
      "text/plain": [
       "<Figure size 1200x800 with 1 Axes>"
      ]
     },
     "metadata": {},
     "output_type": "display_data"
    }
   ],
   "source": [
    "plt.figure(figsize = (12,8))\n",
    "sns.scatterplot(x=\"accommodates\",y = \"price\",data = paris_listings_accommodates,s=100,color = \"blue\")\n",
    "\n",
    "sns.regplot(x= paris_listings_accommodates.index,y=\"price\",data = paris_listings_accommodates,\n",
    "           scatter = False,color = \"red\",line_kws={\"linewidth\":2})\n",
    "           \n",
    "plt.title(\"average airbnb price vs. number of guests accommodate\")\n",
    "plt.xlabel(\"number of guests(accommodate)\")\n",
    "plt.ylabel(\"average price()\")\n",
    "plt.grid(alpha=0.3)\n",
    "plt.show()"
   ]
  },
  {
   "cell_type": "markdown",
   "id": "9adf363b",
   "metadata": {
    "papermill": {
     "duration": 0.016498,
     "end_time": "2025-10-02T07:44:57.406596",
     "exception": false,
     "start_time": "2025-10-02T07:44:57.390098",
     "status": "completed"
    },
    "tags": []
   },
   "source": [
    "<div style=\"\n",
    "    background-color: #00a699; \n",
    "    color: white; \n",
    "    padding: 15px; \n",
    "    border-radius: 10px; \n",
    "    text-align: center; \n",
    "    font-size: 28px; \n",
    "    font-weight: bold;\n",
    "\">\n",
    "    Extracting Year to see time series Analysis of Price and New Host Joining\n",
    "</div>\n"
   ]
  },
  {
   "cell_type": "code",
   "execution_count": 37,
   "id": "a1fc1094",
   "metadata": {
    "execution": {
     "iopub.execute_input": "2025-10-02T07:44:57.441835Z",
     "iopub.status.busy": "2025-10-02T07:44:57.440872Z",
     "iopub.status.idle": "2025-10-02T07:44:57.450923Z",
     "shell.execute_reply": "2025-10-02T07:44:57.449941Z"
    },
    "papermill": {
     "duration": 0.029394,
     "end_time": "2025-10-02T07:44:57.452642",
     "exception": false,
     "start_time": "2025-10-02T07:44:57.423248",
     "status": "completed"
    },
    "tags": []
   },
   "outputs": [],
   "source": [
    "paris_listings[\"year_of_listings\"] =  paris_listings[\"host_since\"].dt.year"
   ]
  },
  {
   "cell_type": "markdown",
   "id": "f4fac28c",
   "metadata": {
    "papermill": {
     "duration": 0.016351,
     "end_time": "2025-10-02T07:44:57.485493",
     "exception": false,
     "start_time": "2025-10-02T07:44:57.469142",
     "status": "completed"
    },
    "tags": []
   },
   "source": [
    "### Why Use the *host_since* Column?\n",
    "\n",
    "The **`host_since`** column records the date when a host first listed their property on Airbnb.  \n",
    "Analyzing this column can provide valuable business insights because:\n",
    "\n",
    "- **Market Entry Timing**: It shows when new hosts are joining the platform, which reflects Airbnb’s growth phases.  \n",
    "- **Host Experience**: Longer tenure may correlate with more reliable hosts and better reviews, whereas recent hosts might need onboarding support.  \n",
    "- **Business Cycles**: Peaks in new host sign-ups can indicate favorable periods for the short-term rental business (e.g., tourism booms, policy changes, or high-demand seasons).  \n",
    "- **Impact of Regulations**: Sudden drops in new host listings may highlight external factors such as regulations or economic conditions affecting supply.  \n",
    "\n",
    "In short, **tracking the `host_since` column helps identify the best times when the Airbnb business environment was most attractive for new entrants**, which can act as a proxy for \"good times\" in the market.\n"
   ]
  },
  {
   "cell_type": "code",
   "execution_count": 38,
   "id": "4f248ef9",
   "metadata": {
    "execution": {
     "iopub.execute_input": "2025-10-02T07:44:57.520206Z",
     "iopub.status.busy": "2025-10-02T07:44:57.519397Z",
     "iopub.status.idle": "2025-10-02T07:44:57.530705Z",
     "shell.execute_reply": "2025-10-02T07:44:57.529814Z"
    },
    "papermill": {
     "duration": 0.03026,
     "end_time": "2025-10-02T07:44:57.532185",
     "exception": false,
     "start_time": "2025-10-02T07:44:57.501925",
     "status": "completed"
    },
    "tags": []
   },
   "outputs": [
    {
     "data": {
      "text/html": [
       "<div>\n",
       "<style scoped>\n",
       "    .dataframe tbody tr th:only-of-type {\n",
       "        vertical-align: middle;\n",
       "    }\n",
       "\n",
       "    .dataframe tbody tr th {\n",
       "        vertical-align: top;\n",
       "    }\n",
       "\n",
       "    .dataframe thead th {\n",
       "        text-align: right;\n",
       "    }\n",
       "</style>\n",
       "<table border=\"1\" class=\"dataframe\">\n",
       "  <thead>\n",
       "    <tr style=\"text-align: right;\">\n",
       "      <th></th>\n",
       "      <th>listing_id</th>\n",
       "      <th>host_since</th>\n",
       "      <th>neighbourhood</th>\n",
       "      <th>city</th>\n",
       "      <th>accommodates</th>\n",
       "      <th>price</th>\n",
       "      <th>year_of_listings</th>\n",
       "    </tr>\n",
       "  </thead>\n",
       "  <tbody>\n",
       "    <tr>\n",
       "      <th>0</th>\n",
       "      <td>281420</td>\n",
       "      <td>2011-12-03</td>\n",
       "      <td>Buttes-Montmartre</td>\n",
       "      <td>Paris</td>\n",
       "      <td>2</td>\n",
       "      <td>53</td>\n",
       "      <td>2011.0</td>\n",
       "    </tr>\n",
       "    <tr>\n",
       "      <th>1</th>\n",
       "      <td>3705183</td>\n",
       "      <td>2013-11-29</td>\n",
       "      <td>Buttes-Montmartre</td>\n",
       "      <td>Paris</td>\n",
       "      <td>2</td>\n",
       "      <td>120</td>\n",
       "      <td>2013.0</td>\n",
       "    </tr>\n",
       "    <tr>\n",
       "      <th>2</th>\n",
       "      <td>4082273</td>\n",
       "      <td>2014-07-31</td>\n",
       "      <td>Elysee</td>\n",
       "      <td>Paris</td>\n",
       "      <td>2</td>\n",
       "      <td>89</td>\n",
       "      <td>2014.0</td>\n",
       "    </tr>\n",
       "    <tr>\n",
       "      <th>3</th>\n",
       "      <td>4797344</td>\n",
       "      <td>2013-12-17</td>\n",
       "      <td>Vaugirard</td>\n",
       "      <td>Paris</td>\n",
       "      <td>2</td>\n",
       "      <td>58</td>\n",
       "      <td>2013.0</td>\n",
       "    </tr>\n",
       "    <tr>\n",
       "      <th>4</th>\n",
       "      <td>4823489</td>\n",
       "      <td>2014-12-14</td>\n",
       "      <td>Passy</td>\n",
       "      <td>Paris</td>\n",
       "      <td>2</td>\n",
       "      <td>60</td>\n",
       "      <td>2014.0</td>\n",
       "    </tr>\n",
       "  </tbody>\n",
       "</table>\n",
       "</div>"
      ],
      "text/plain": [
       "   listing_id host_since      neighbourhood   city  accommodates  price  \\\n",
       "0      281420 2011-12-03  Buttes-Montmartre  Paris             2     53   \n",
       "1     3705183 2013-11-29  Buttes-Montmartre  Paris             2    120   \n",
       "2     4082273 2014-07-31             Elysee  Paris             2     89   \n",
       "3     4797344 2013-12-17          Vaugirard  Paris             2     58   \n",
       "4     4823489 2014-12-14              Passy  Paris             2     60   \n",
       "\n",
       "   year_of_listings  \n",
       "0            2011.0  \n",
       "1            2013.0  \n",
       "2            2014.0  \n",
       "3            2013.0  \n",
       "4            2014.0  "
      ]
     },
     "execution_count": 38,
     "metadata": {},
     "output_type": "execute_result"
    }
   ],
   "source": [
    "paris_listings.head()"
   ]
  },
  {
   "cell_type": "code",
   "execution_count": 39,
   "id": "db9f0bdc",
   "metadata": {
    "execution": {
     "iopub.execute_input": "2025-10-02T07:44:57.571614Z",
     "iopub.status.busy": "2025-10-02T07:44:57.570724Z",
     "iopub.status.idle": "2025-10-02T07:44:57.585123Z",
     "shell.execute_reply": "2025-10-02T07:44:57.584193Z"
    },
    "papermill": {
     "duration": 0.03581,
     "end_time": "2025-10-02T07:44:57.586822",
     "exception": false,
     "start_time": "2025-10-02T07:44:57.551012",
     "status": "completed"
    },
    "tags": []
   },
   "outputs": [
    {
     "data": {
      "text/html": [
       "<div>\n",
       "<style scoped>\n",
       "    .dataframe tbody tr th:only-of-type {\n",
       "        vertical-align: middle;\n",
       "    }\n",
       "\n",
       "    .dataframe tbody tr th {\n",
       "        vertical-align: top;\n",
       "    }\n",
       "\n",
       "    .dataframe thead th {\n",
       "        text-align: right;\n",
       "    }\n",
       "</style>\n",
       "<table border=\"1\" class=\"dataframe\">\n",
       "  <thead>\n",
       "    <tr style=\"text-align: right;\">\n",
       "      <th></th>\n",
       "      <th>listing_id</th>\n",
       "      <th>price</th>\n",
       "    </tr>\n",
       "    <tr>\n",
       "      <th>year_of_listings</th>\n",
       "      <th></th>\n",
       "      <th></th>\n",
       "    </tr>\n",
       "  </thead>\n",
       "  <tbody>\n",
       "    <tr>\n",
       "      <th>2008.0</th>\n",
       "      <td>4</td>\n",
       "      <td>77.750000</td>\n",
       "    </tr>\n",
       "    <tr>\n",
       "      <th>2009.0</th>\n",
       "      <td>105</td>\n",
       "      <td>142.114286</td>\n",
       "    </tr>\n",
       "    <tr>\n",
       "      <th>2010.0</th>\n",
       "      <td>415</td>\n",
       "      <td>120.995181</td>\n",
       "    </tr>\n",
       "    <tr>\n",
       "      <th>2011.0</th>\n",
       "      <td>1333</td>\n",
       "      <td>109.597149</td>\n",
       "    </tr>\n",
       "    <tr>\n",
       "      <th>2012.0</th>\n",
       "      <td>4576</td>\n",
       "      <td>107.654283</td>\n",
       "    </tr>\n",
       "    <tr>\n",
       "      <th>2013.0</th>\n",
       "      <td>8128</td>\n",
       "      <td>104.295153</td>\n",
       "    </tr>\n",
       "    <tr>\n",
       "      <th>2014.0</th>\n",
       "      <td>10889</td>\n",
       "      <td>96.403067</td>\n",
       "    </tr>\n",
       "    <tr>\n",
       "      <th>2015.0</th>\n",
       "      <td>12100</td>\n",
       "      <td>96.397438</td>\n",
       "    </tr>\n",
       "    <tr>\n",
       "      <th>2016.0</th>\n",
       "      <td>8767</td>\n",
       "      <td>100.576366</td>\n",
       "    </tr>\n",
       "    <tr>\n",
       "      <th>2017.0</th>\n",
       "      <td>4553</td>\n",
       "      <td>100.466506</td>\n",
       "    </tr>\n",
       "    <tr>\n",
       "      <th>2018.0</th>\n",
       "      <td>4252</td>\n",
       "      <td>114.871119</td>\n",
       "    </tr>\n",
       "    <tr>\n",
       "      <th>2019.0</th>\n",
       "      <td>5615</td>\n",
       "      <td>113.016207</td>\n",
       "    </tr>\n",
       "    <tr>\n",
       "      <th>2020.0</th>\n",
       "      <td>3322</td>\n",
       "      <td>115.336243</td>\n",
       "    </tr>\n",
       "    <tr>\n",
       "      <th>2021.0</th>\n",
       "      <td>133</td>\n",
       "      <td>93.488722</td>\n",
       "    </tr>\n",
       "  </tbody>\n",
       "</table>\n",
       "</div>"
      ],
      "text/plain": [
       "                  listing_id       price\n",
       "year_of_listings                        \n",
       "2008.0                     4   77.750000\n",
       "2009.0                   105  142.114286\n",
       "2010.0                   415  120.995181\n",
       "2011.0                  1333  109.597149\n",
       "2012.0                  4576  107.654283\n",
       "2013.0                  8128  104.295153\n",
       "2014.0                 10889   96.403067\n",
       "2015.0                 12100   96.397438\n",
       "2016.0                  8767  100.576366\n",
       "2017.0                  4553  100.466506\n",
       "2018.0                  4252  114.871119\n",
       "2019.0                  5615  113.016207\n",
       "2020.0                  3322  115.336243\n",
       "2021.0                   133   93.488722"
      ]
     },
     "execution_count": 39,
     "metadata": {},
     "output_type": "execute_result"
    }
   ],
   "source": [
    "paris_listings_final_analysis = paris_listings.groupby(\"year_of_listings\").agg({\n",
    "    \"listing_id\":\"count\",\"price\":\"mean\"\n",
    "})\n",
    "paris_listings_final_analysis "
   ]
  },
  {
   "cell_type": "code",
   "execution_count": 40,
   "id": "831b12dc",
   "metadata": {
    "execution": {
     "iopub.execute_input": "2025-10-02T07:44:57.623657Z",
     "iopub.status.busy": "2025-10-02T07:44:57.622719Z",
     "iopub.status.idle": "2025-10-02T07:44:57.872603Z",
     "shell.execute_reply": "2025-10-02T07:44:57.871736Z"
    },
    "papermill": {
     "duration": 0.269881,
     "end_time": "2025-10-02T07:44:57.874407",
     "exception": false,
     "start_time": "2025-10-02T07:44:57.604526",
     "status": "completed"
    },
    "tags": []
   },
   "outputs": [
    {
     "data": {
      "image/png": "[encoded data removed]",
      "text/plain": [
       "<Figure size 1200x600 with 1 Axes>"
      ]
     },
     "metadata": {},
     "output_type": "display_data"
    }
   ],
   "source": [
    "plt.figure(figsize = (12,6))\n",
    "\n",
    "plt.plot(paris_listings_final_analysis .index,paris_listings_final_analysis [\"listing_id\"],\n",
    "        marker = 'o',linestyle = \"--\",linewidth = 2,color =  \"teal\",alpha = 0.8)\n",
    "plt.title(\"Number of New AirBnB Listings in Paris Over Time\",fontsize = 16,pad = 15)\n",
    "plt.xlabel(\"Year of listing\",fontsize = 13)\n",
    "plt.ylabel(\"Number of New Listing\",fontsize = 13)\n",
    "\n",
    "plt.grid()\n",
    "plt.xticks(paris_listings_final_analysis.index,rotation =  45)\n",
    "plt.show()"
   ]
  },
  {
   "cell_type": "markdown",
   "id": "59873e92",
   "metadata": {
    "papermill": {
     "duration": 0.018076,
     "end_time": "2025-10-02T07:44:57.911365",
     "exception": false,
     "start_time": "2025-10-02T07:44:57.893289",
     "status": "completed"
    },
    "tags": []
   },
   "source": [
    "### Insight on Airbnb Listings Over Time\n",
    "\n",
    "- From **2008 to 2015**, the number of new Airbnb listings in Paris grew rapidly, peaking around **2015–2016** with more than 12,000 new hosts entering the market. This indicates a period of **high attractiveness and strong growth** for Airbnb, with both **supply (hosts)** and **demand (customers)** expanding significantly.  \n",
    "\n",
    "- Starting in **2017**, there is a sharp decline in the number of new listings. This coincides with the **regulation imposed in Paris in 2017** that aimed to control short-term rentals due to housing shortages. The regulation clearly discouraged many new hosts from entering the market, leading to a **reduction in supply growth**.  \n",
    "\n",
    "- The continued decline after 2017 suggests that the **barriers to entry remained high**, keeping potential new hosts from joining. On the demand side, while tourists and customers likely still sought Airbnbs, the **limited supply growth** would have constrained options and potentially increased prices.  \n",
    "\n",
    "**Overall:**  \n",
    "- **Pre-2017:** Strong growth in both supply (hosts) and demand (customers).  \n",
    "- **Post-2017:** Regulation led to a slowdown in host entry, reducing supply expansion, even though customer demand likely remained steady or growing.\n"
   ]
  },
  {
   "cell_type": "code",
   "execution_count": 41,
   "id": "738a5c57",
   "metadata": {
    "execution": {
     "iopub.execute_input": "2025-10-02T07:44:57.948639Z",
     "iopub.status.busy": "2025-10-02T07:44:57.948310Z",
     "iopub.status.idle": "2025-10-02T07:44:57.958572Z",
     "shell.execute_reply": "2025-10-02T07:44:57.957652Z"
    },
    "papermill": {
     "duration": 0.030954,
     "end_time": "2025-10-02T07:44:57.960185",
     "exception": false,
     "start_time": "2025-10-02T07:44:57.929231",
     "status": "completed"
    },
    "tags": []
   },
   "outputs": [
    {
     "data": {
      "text/html": [
       "<div>\n",
       "<style scoped>\n",
       "    .dataframe tbody tr th:only-of-type {\n",
       "        vertical-align: middle;\n",
       "    }\n",
       "\n",
       "    .dataframe tbody tr th {\n",
       "        vertical-align: top;\n",
       "    }\n",
       "\n",
       "    .dataframe thead th {\n",
       "        text-align: right;\n",
       "    }\n",
       "</style>\n",
       "<table border=\"1\" class=\"dataframe\">\n",
       "  <thead>\n",
       "    <tr style=\"text-align: right;\">\n",
       "      <th></th>\n",
       "      <th>listing_id</th>\n",
       "      <th>price</th>\n",
       "    </tr>\n",
       "    <tr>\n",
       "      <th>year_of_listings</th>\n",
       "      <th></th>\n",
       "      <th></th>\n",
       "    </tr>\n",
       "  </thead>\n",
       "  <tbody>\n",
       "    <tr>\n",
       "      <th>2008.0</th>\n",
       "      <td>4</td>\n",
       "      <td>77.750000</td>\n",
       "    </tr>\n",
       "    <tr>\n",
       "      <th>2009.0</th>\n",
       "      <td>105</td>\n",
       "      <td>142.114286</td>\n",
       "    </tr>\n",
       "    <tr>\n",
       "      <th>2010.0</th>\n",
       "      <td>415</td>\n",
       "      <td>120.995181</td>\n",
       "    </tr>\n",
       "    <tr>\n",
       "      <th>2011.0</th>\n",
       "      <td>1333</td>\n",
       "      <td>109.597149</td>\n",
       "    </tr>\n",
       "    <tr>\n",
       "      <th>2012.0</th>\n",
       "      <td>4576</td>\n",
       "      <td>107.654283</td>\n",
       "    </tr>\n",
       "    <tr>\n",
       "      <th>2013.0</th>\n",
       "      <td>8128</td>\n",
       "      <td>104.295153</td>\n",
       "    </tr>\n",
       "    <tr>\n",
       "      <th>2014.0</th>\n",
       "      <td>10889</td>\n",
       "      <td>96.403067</td>\n",
       "    </tr>\n",
       "    <tr>\n",
       "      <th>2015.0</th>\n",
       "      <td>12100</td>\n",
       "      <td>96.397438</td>\n",
       "    </tr>\n",
       "    <tr>\n",
       "      <th>2016.0</th>\n",
       "      <td>8767</td>\n",
       "      <td>100.576366</td>\n",
       "    </tr>\n",
       "    <tr>\n",
       "      <th>2017.0</th>\n",
       "      <td>4553</td>\n",
       "      <td>100.466506</td>\n",
       "    </tr>\n",
       "    <tr>\n",
       "      <th>2018.0</th>\n",
       "      <td>4252</td>\n",
       "      <td>114.871119</td>\n",
       "    </tr>\n",
       "    <tr>\n",
       "      <th>2019.0</th>\n",
       "      <td>5615</td>\n",
       "      <td>113.016207</td>\n",
       "    </tr>\n",
       "    <tr>\n",
       "      <th>2020.0</th>\n",
       "      <td>3322</td>\n",
       "      <td>115.336243</td>\n",
       "    </tr>\n",
       "    <tr>\n",
       "      <th>2021.0</th>\n",
       "      <td>133</td>\n",
       "      <td>93.488722</td>\n",
       "    </tr>\n",
       "  </tbody>\n",
       "</table>\n",
       "</div>"
      ],
      "text/plain": [
       "                  listing_id       price\n",
       "year_of_listings                        \n",
       "2008.0                     4   77.750000\n",
       "2009.0                   105  142.114286\n",
       "2010.0                   415  120.995181\n",
       "2011.0                  1333  109.597149\n",
       "2012.0                  4576  107.654283\n",
       "2013.0                  8128  104.295153\n",
       "2014.0                 10889   96.403067\n",
       "2015.0                 12100   96.397438\n",
       "2016.0                  8767  100.576366\n",
       "2017.0                  4553  100.466506\n",
       "2018.0                  4252  114.871119\n",
       "2019.0                  5615  113.016207\n",
       "2020.0                  3322  115.336243\n",
       "2021.0                   133   93.488722"
      ]
     },
     "execution_count": 41,
     "metadata": {},
     "output_type": "execute_result"
    }
   ],
   "source": [
    "paris_listings_final_analysis "
   ]
  },
  {
   "cell_type": "code",
   "execution_count": 42,
   "id": "aaaca2ab",
   "metadata": {
    "execution": {
     "iopub.execute_input": "2025-10-02T07:44:57.998252Z",
     "iopub.status.busy": "2025-10-02T07:44:57.997956Z",
     "iopub.status.idle": "2025-10-02T07:44:58.248277Z",
     "shell.execute_reply": "2025-10-02T07:44:58.247189Z"
    },
    "papermill": {
     "duration": 0.271284,
     "end_time": "2025-10-02T07:44:58.249905",
     "exception": false,
     "start_time": "2025-10-02T07:44:57.978621",
     "status": "completed"
    },
    "tags": []
   },
   "outputs": [
    {
     "data": {
      "image/png": "[encoded data removed]",
      "text/plain": [
       "<Figure size 1200x800 with 1 Axes>"
      ]
     },
     "metadata": {},
     "output_type": "display_data"
    }
   ],
   "source": [
    "plt.figure(figsize = (12,8))\n",
    "sns.lineplot(\n",
    "    x=\"year_of_listings\",\n",
    "    y=\"price\",\n",
    "    data=paris_listings_final_analysis,\n",
    "    marker=\"o\",\n",
    "    linewidth=2.5,\n",
    "    color=\"teal\"\n",
    ")\n",
    "\n",
    "plt.title(\"Average  AirBnB Prices in Paris Over Time\",fontsize = 18,fontweight=\"bold\",pad = 15)\n",
    "plt.xlabel(\"year_of_listings\",fontsize = 14)\n",
    "plt.ylabel(\"Average Price (€)\",fontsize = 14)\n",
    "plt.show()"
   ]
  },
  {
   "cell_type": "markdown",
   "id": "d898560a",
   "metadata": {
    "papermill": {
     "duration": 0.019398,
     "end_time": "2025-10-02T07:44:58.289546",
     "exception": false,
     "start_time": "2025-10-02T07:44:58.270148",
     "status": "completed"
    },
    "tags": []
   },
   "source": [
    "### Insight on Average Airbnb Prices Over Time\n",
    "\n",
    "- **2008–2009:** Prices started relatively low (~€78) but spiked sharply in 2009 to over **€140**, possibly reflecting early market scarcity and premium pricing when Airbnb first entered Paris.  \n",
    "\n",
    "- **2010–2014:** A consistent **downward trend** is visible, with average prices falling from ~€121 to ~€96. This suggests **increasing competition and supply** as more hosts entered the market, leading to price normalization.  \n",
    "\n",
    "- **2015–2017:** Prices stabilized at just under €100–€101/night, marking a period of equilibrium between supply growth and customer demand.  \n",
    "\n",
    "- **2018–2020:** Prices rose again to around **€115/night**, despite stricter **2017 regulations**. With supply growth slowing, fewer new listings may have pushed average prices upward as demand remained strong.  \n",
    "\n",
    "- **2021 onwards:** A decline back toward ~€93 is visible, possibly reflecting **pandemic-related demand shocks** and a temporary oversupply compared to lower travel activity.  \n",
    "\n",
    "**Overall:**  \n",
    "- In the **early years**, scarcity kept prices high.  \n",
    "- As supply expanded, **competition drove prices down**.  \n",
    "- **Regulation (2017)** limited supply growth, causing a **price rebound**.  \n",
    "- **Pandemic effects** likely caused the post-2020 decline.  \n"
   ]
  },
  {
   "cell_type": "code",
   "execution_count": 43,
   "id": "259e7dad",
   "metadata": {
    "execution": {
     "iopub.execute_input": "2025-10-02T07:44:58.330297Z",
     "iopub.status.busy": "2025-10-02T07:44:58.329524Z",
     "iopub.status.idle": "2025-10-02T07:44:58.892348Z",
     "shell.execute_reply": "2025-10-02T07:44:58.891163Z"
    },
    "papermill": {
     "duration": 0.585703,
     "end_time": "2025-10-02T07:44:58.894599",
     "exception": false,
     "start_time": "2025-10-02T07:44:58.308896",
     "status": "completed"
    },
    "tags": []
   },
   "outputs": [
    {
     "data": {
      "image/png": "[encoded data removed]",
      "text/plain": [
       "<Figure size 1200x800 with 2 Axes>"
      ]
     },
     "metadata": {},
     "output_type": "display_data"
    }
   ],
   "source": [
    "fig, ax = plt.subplots(figsize=(12,8))\n",
    "\n",
    "# Plot number of listings (left y-axis)\n",
    "ax.plot(\n",
    "    paris_listings_final_analysis.index, \n",
    "    paris_listings_final_analysis[\"listing_id\"], \n",
    "    color=\"teal\", linewidth=2.5, marker=\"o\", label=\"Number of Listings\"\n",
    ")\n",
    "ax.set_xlabel(\"Year of Listing\", fontsize=14)\n",
    "ax.set_ylabel(\"Number of New Listings\", fontsize=14, color=\"teal\")\n",
    "ax.tick_params(axis=\"y\", labelcolor=\"teal\")\n",
    "\n",
    "# Secondary y-axis for price\n",
    "ax2 = ax.twinx()\n",
    "ax2.plot(\n",
    "    paris_listings_final_analysis.index, \n",
    "    paris_listings_final_analysis[\"price\"], \n",
    "    color=\"darkorange\", linewidth=2.5, marker=\"s\", label=\"Average Price (€)\"\n",
    ")\n",
    "ax2.set_ylabel(\"Average Price (€)\", fontsize=14, color=\"darkorange\")\n",
    "ax2.tick_params(axis=\"y\", labelcolor=\"darkorange\")\n",
    "ax2.set_ylim(0)\n",
    "\n",
    "# Titles and grid\n",
    "plt.title(\"Airbnb Listings vs. Average Price in Paris (2008–2021)\", fontsize=18, fontweight=\"bold\", pad=15)\n",
    "ax.grid(alpha=0.3, linestyle=\"--\")\n",
    "\n",
    "# Highlight regulation year (2017)\n",
    "ax.axvline(x=2017, color=\"red\", linestyle=\"--\", linewidth=2, alpha=0.8, label=\"Regulation (2017)\")\n",
    "\n",
    "# Shade post-2017 period\n",
    "ax.axvspan(2017, paris_listings_final_analysis.index.max(), color=\"red\", alpha=0.1)\n",
    "\n",
    "# Add text inside shaded area\n",
    "ax.text(\n",
    "    2017.5, \n",
    "    ax.get_ylim()[1]*0.9,   # position text near the top of shaded area\n",
    "    \"Post-regulation era\", \n",
    "    color=\"red\", fontsize=13, fontweight=\"bold\"\n",
    ")\n",
    "\n",
    "# ---- Annotations ----\n",
    "# Peak in listings (2015–2016)\n",
    "peak_year = paris_listings_final_analysis[\"listing_id\"].idxmax()\n",
    "peak_val = paris_listings_final_analysis[\"listing_id\"].max()\n",
    "ax.annotate(\n",
    "    f\"Peak Listings\\n({peak_year}: {peak_val:,})\",\n",
    "    xy=(peak_year, peak_val),\n",
    "    xytext=(peak_year-2, peak_val+2000),\n",
    "    arrowprops=dict(arrowstyle=\"->\", color=\"teal\"),\n",
    "    fontsize=12, color=\"teal\"\n",
    ")\n",
    "\n",
    "# Lowest price point (2014)\n",
    "low_year = paris_listings_final_analysis[\"price\"].idxmin()\n",
    "low_val = paris_listings_final_analysis[\"price\"].min()\n",
    "ax2.annotate(\n",
    "    f\"Lowest Price\\n({low_year}: €{low_val:.0f})\",\n",
    "    xy=(low_year, low_val),\n",
    "    xytext=(low_year+1, low_val-15),\n",
    "    arrowprops=dict(arrowstyle=\"->\", color=\"darkorange\"),\n",
    "    fontsize=12, color=\"darkorange\"\n",
    ")\n",
    "\n",
    "# Price rebound post-2017\n",
    "ax2.annotate(\n",
    "    \"Price rebound\\npost-regulation\",\n",
    "    xy=(2018, paris_listings_final_analysis.loc[2018, \"price\"]),\n",
    "    xytext=(2014.5, 130),\n",
    "    arrowprops=dict(arrowstyle=\"->\", color=\"darkorange\"),\n",
    "    fontsize=12, color=\"darkorange\"\n",
    ")\n",
    "\n",
    "# Legends\n",
    "lines, labels = ax.get_legend_handles_labels()\n",
    "lines2, labels2 = ax2.get_legend_handles_labels()\n",
    "ax.legend(lines + lines2, labels + labels2, fontsize=12, loc=\"upper left\")\n",
    "\n",
    "plt.tight_layout()\n",
    "plt.show()"
   ]
  },
  {
   "cell_type": "markdown",
   "id": "62cf456d",
   "metadata": {
    "papermill": {
     "duration": 0.022665,
     "end_time": "2025-10-02T07:44:58.940576",
     "exception": false,
     "start_time": "2025-10-02T07:44:58.917911",
     "status": "completed"
    },
    "tags": []
   },
   "source": [
    "## Final Insights and Recommendations\n",
    "\n",
    "### Key Insights\n",
    "1. **Strong Growth Pre-2017**  \n",
    "   - Paris experienced rapid growth in Airbnb listings between 2008–2016, peaking in 2015–2016.  \n",
    "   - This reflects high demand and strong attractiveness of the short-term rental market.  \n",
    "\n",
    "2. **Impact of 2017 Regulations**  \n",
    "   - The number of new hosts dropped sharply after the 2017 regulations that restricted short-term rentals.  \n",
    "   - While demand from travelers remained steady, the reduced inflow of hosts slowed supply growth.  \n",
    "\n",
    "3. **Price Dynamics**  \n",
    "   - Average prices decreased between 2010–2014 due to increased competition from new hosts.  \n",
    "   - Post-2017, prices rebounded as supply growth slowed, suggesting a supply-demand imbalance.  \n",
    "   - During the pandemic (2020–2021), prices declined again due to demand shocks.  \n",
    "\n",
    "4. **Locality-Based Trends**  \n",
    "   - Central, prestigious areas (Louvre, Elysee, Luxembourg) command premium prices.  \n",
    "   - Outer neighborhoods (Menilmontant, Buttes-Chaumont) remain more affordable, appealing to budget travelers.  \n",
    "\n",
    "5. **Accommodation Capacity**  \n",
    "   - Prices scale with the number of guests a listing can accommodate, but not proportionally.  \n",
    "   - Large properties (10+ guests) cater to a niche segment, with very high average nightly prices.  \n",
    "\n",
    "---\n",
    "\n",
    "### Recommendations for the Business\n",
    "1. **Focus on High-Demand Localities**  \n",
    "   - Prioritize investments and partnerships in central, premium areas where demand is strongest and prices are resilient.  \n",
    "   - Simultaneously, target budget-friendly neighborhoods to attract cost-sensitive travelers.  \n",
    "\n",
    "2. **Leverage Supply-Demand Gap Post-2017**  \n",
    "   - With stricter entry for new hosts, existing hosts can capture greater market share.  \n",
    "   - Encourage quality improvements and unique value-adds (professional photos, amenities, flexible check-in) to stand out.  \n",
    "\n",
    "3. **Diversify Accommodation Sizes**  \n",
    "   - Promote medium-capacity listings (3–6 guests) that balance affordability and profitability.  \n",
    "   - Large properties should be marketed as group or family stays, potentially bundling with experiences.  \n",
    "\n",
    "4. **Dynamic Pricing Strategy**  \n",
    "   - Implement data-driven pricing models that account for seasonality, locality, and capacity.  \n",
    "   - Post-pandemic recovery presents an opportunity to adjust prices as travel demand rebounds.  \n",
    "\n",
    "5. **Customer-Centric Growth**  \n",
    "   - Enhance guest experience through verified reviews, safety measures, and customer support.  \n",
    "   - Focus on repeat customers and long-term stays, especially in regulatory-constrained markets.  \n",
    "\n",
    "6. **Policy Adaptation**  \n",
    "   - Stay agile in response to local regulations.  \n",
    "   - Explore partnerships or compliance-based strategies (e.g., registered professional hosting) to maintain competitiveness.  \n",
    "\n",
    "---\n",
    "✅ **Overall:** Paris Airbnb experienced strong growth until 2017, after which regulations constrained supply. Demand has remained steady, pushing prices higher post-regulation. Businesses should focus on **balancing premium and budget offerings, adopting dynamic pricing, and aligning with regulatory frameworks** to remain competitive in this evolving market.\n"
   ]
  },
  {
   "cell_type": "markdown",
   "id": "434fa087",
   "metadata": {
    "papermill": {
     "duration": 0.022484,
     "end_time": "2025-10-02T07:44:58.985391",
     "exception": false,
     "start_time": "2025-10-02T07:44:58.962907",
     "status": "completed"
    },
    "tags": []
   },
   "source": [
    "<div style=\"background-color:#00a699; padding:25px; border-radius:12px; text-align:center;\">\n",
    "  <h1 style=\"color:white;\">✅ Thank You</h1>\n",
    "  <p style=\"color:white; font-size:18px;\">\n",
    "    We appreciate your time reviewing this analysis.<br>\n",
    "    For any questions or discussions, feel free to connect.\n",
    "  </p>\n",
    "</div>\n",
    "\n",
    "<p style=\"text-align:center; color:gray; font-size:14px; margin-top:10px;\">\n",
    "  Airbnb Paris Analysis | 2025\n",
    "</p>\n"
   ]
  }
 ],
 "metadata": {
  "kaggle": {
   "accelerator": "none",
   "dataSources": [
    {
     "datasetId": 1530930,
     "sourceId": 2526818,
     "sourceType": "datasetVersion"
    }
   ],
   "dockerImageVersionId": 31089,
   "isGpuEnabled": false,
   "isInternetEnabled": false,
   "language": "python",
   "sourceType": "notebook"
  },
  "kernelspec": {
   "display_name": "Python 3",
   "language": "python",
   "name": "python3"
  },
  "language_info": {
   "codemirror_mode": {
    "name": "ipython",
    "version": 3
   },
   "file_extension": ".py",
   "mimetype": "text/x-python",
   "name": "python",
   "nbconvert_exporter": "python",
   "pygments_lexer": "ipython3",
   "version": "3.11.13"
  },
  "papermill": {
   "default_parameters": {},
   "duration": 26.43367,
   "end_time": "2025-10-02T07:44:59.727903",
   "environment_variables": {},
   "exception": null,
   "input_path": "__notebook__.ipynb",
   "output_path": "__notebook__.ipynb",
   "parameters": {},
   "start_time": "2025-10-02T07:44:33.294233",
   "version": "2.6.0"
  }
 },
 "nbformat": 4,
 "nbformat_minor": 5
}
